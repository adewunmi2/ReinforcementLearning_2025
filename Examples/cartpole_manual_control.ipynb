{
 "cells": [
  {
   "cell_type": "markdown",
   "metadata": {},
   "source": [
    "###  Example, Cart Pole, DQN- Deep Q-learning Network"
   ]
  },
  {
   "cell_type": "code",
   "execution_count": null,
   "metadata": {},
   "outputs": [],
   "source": [
    "# more code here later\n",
    "\n",
    "# we are going to need keras and TORCH in this example\n",
    "# pip install keras\n",
    "# pip install torch==2.5.1\n",
    "# gymnasium.farama.org/environments/classic_control/cart_pole"
   ]
  },
  {
   "cell_type": "code",
   "execution_count": 1,
   "metadata": {},
   "outputs": [],
   "source": [
    "# import the module libraries\n",
    "import gymnasium as gym\n",
    "from gymnasium.utils import play"
   ]
  },
  {
   "cell_type": "markdown",
   "metadata": {},
   "source": [
    "### Manual playing the cartpole"
   ]
  },
  {
   "cell_type": "code",
   "execution_count": 8,
   "metadata": {},
   "outputs": [],
   "source": [
    "# create the Cart Pole environment\n",
    "env = gym.make(\"CartPole-v1\", render_mode='rgb_array', max_episode_steps=700)\n",
    "\n",
    "# map the keys, 0 => move cart towards left, 1 => move cart towards right\n",
    "action_keys = {\n",
    "    \"a\": 0,\n",
    "    \"d\": 1\n",
    "}\n",
    "\n",
    "\n",
    "# drop this to 10 fps, since the game is very unforgiving\n",
    "# and slippery, not really meant for humans to play\n",
    "# but we can get the idea how this environment works!\n",
    "play.play(env, fps=20, keys_to_action=action_keys, wait_on_player=False)"
   ]
  },
  {
   "cell_type": "markdown",
   "metadata": {},
   "source": []
  }
 ],
 "metadata": {
  "kernelspec": {
   "display_name": "venv310",
   "language": "python",
   "name": "python3"
  },
  "language_info": {
   "codemirror_mode": {
    "name": "ipython",
    "version": 3
   },
   "file_extension": ".py",
   "mimetype": "text/x-python",
   "name": "python",
   "nbconvert_exporter": "python",
   "pygments_lexer": "ipython3",
   "version": "3.10.11"
  }
 },
 "nbformat": 4,
 "nbformat_minor": 2
}
