{
 "cells": [
  {
   "cell_type": "code",
   "execution_count": 2,
   "metadata": {},
   "outputs": [],
   "source": [
    "# import gymnasium \n",
    "import gymnasium as gym\n",
    "from gymnasium.utils import play\n",
    "import numpy as np\n",
    "import os\n",
    "#import matplotlib.pyplot as plt\n",
    "#import time\n",
    "#from IPython.display import clear_output"
   ]
  },
  {
   "cell_type": "code",
   "execution_count": null,
   "metadata": {},
   "outputs": [],
   "source": [
    "# create the mountain car environment\n",
    "env = gym.make('MountainCar-v0', render_mode=\"rgb_array\", max_episode_steps=-1)\n",
    "\n",
    "# There are 3 discrete deterministic actions:\n",
    "# 0: Accelerate to the left\n",
    "# 1: Don’t accelerate\n",
    "# 2: Accelerate to the right\n",
    "\n",
    "action_keys = {\n",
    "    \"a\": 0,\n",
    "    \"s\": 1,\n",
    "    \"d\": 2\n",
    "}\n",
    "\n",
    "# counter = 0\n",
    "\n",
    "play.play(env, fps=30, keys_to_action = action_keys, wait_on_player=False, noop=1)"
   ]
  },
  {
   "cell_type": "code",
   "execution_count": null,
   "metadata": {},
   "outputs": [],
   "source": []
  }
 ],
 "metadata": {
  "kernelspec": {
   "display_name": "venv310",
   "language": "python",
   "name": "python3"
  },
  "language_info": {
   "codemirror_mode": {
    "name": "ipython",
    "version": 3
   },
   "file_extension": ".py",
   "mimetype": "text/x-python",
   "name": "python",
   "nbconvert_exporter": "python",
   "pygments_lexer": "ipython3",
   "version": "3.10.11"
  }
 },
 "nbformat": 4,
 "nbformat_minor": 2
}
