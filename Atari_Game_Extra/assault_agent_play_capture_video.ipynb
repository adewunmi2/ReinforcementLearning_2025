{
 "cells": [
  {
   "cell_type": "markdown",
   "metadata": {},
   "source": [
    "### This displaying captures frames into a video"
   ]
  },
  {
   "cell_type": "code",
   "execution_count": null,
   "metadata": {},
   "outputs": [
    {
     "data": {
      "image/png": "[encoded data removed]",
      "text/plain": [
       "<Figure size 640x480 with 1 Axes>"
      ]
     },
     "metadata": {},
     "output_type": "display_data"
    }
   ],
   "source": [
    "# Prompt for this:\n",
    "# After saving the model: \"model.save(\"custom_riverraid_v5_ppo\")\"\n",
    "# I want to have another python script (.py), where I load this model and allow the agent \n",
    "# to play the game, render mode = human\n",
    "\n",
    "# the usual thing with GPT code -> fix the ale_py import \n",
    "import gymnasium as gym\n",
    "import ale_py\n",
    "gym.register_envs(ale_py)\n",
    "import time\n",
    "from stable_baselines3 import PPO\n",
    "from stable_baselines3.common.vec_env import DummyVecEnv\n",
    "from gymnasium.wrappers import RecordVideo\n",
    "from IPython.display import clear_output\n",
    "import matplotlib.pyplot as plt\n",
    "import moviepy\n",
    "\n",
    "# this video capture solution uses they Gymnasium's\n",
    "# built-in video recorder, can't be used with VecEnv's though\n",
    "# => VecEnvs have their own solution for this\n",
    "class SurvivalAssaultWrapper(gym.Wrapper):\n",
    "    def __init__(self, env):\n",
    "        super().__init__(env)\n",
    "        self.time_alive = 0  \n",
    "\n",
    "    def step(self, action):\n",
    "        obs, reward, done, trunc, info = self.env.step(action)\n",
    "        self.time_alive += 1\n",
    "        reward = 0.1  # Small survival reward per step\n",
    "        return obs, reward, done, trunc, info\n",
    "    \n",
    "# Create environment with video recording\n",
    "env = gym.make(\"AssaultNoFrameskip-v4\", render_mode=\"rgb_array\")  # Ensure RGB mode\n",
    "env = SurvivalAssaultWrapper(env)\n",
    "\n",
    "env = RecordVideo(env, video_folder=\"./videos\", episode_trigger=lambda x: True)\n",
    "\n",
    "# Load the trained model\n",
    "model = PPO.load(\"custom_assault_v5_ppo\")\n",
    "\n",
    "# Reset the environment\n",
    "obs  = env.reset()\n",
    "\n",
    "try:\n",
    "    obs, _ = env.reset()\n",
    "    start_time = time.time()\n",
    "    \n",
    "    while time.time() - start_time < 90:\n",
    "        action, _ = model.predict(obs)  # Choose action\n",
    "        obs, reward, done, trunc, info = env.step(action)\n",
    "        # env.render()\n",
    "\n",
    "        image = env.render()\n",
    "        clear_output(wait=True)\n",
    "        plt.imshow(image)\n",
    "        plt.axis(\"off\")\n",
    "        plt.show()\n",
    "\n",
    "        if done or trunc:\n",
    "            obs, _ = env.reset()  # Restart if game over\n",
    "except Exception as e:\n",
    "    print(f\"Error: {e}\")\n",
    "finally:\n",
    "    env.close()  # Ensure the environment is properly closed"
   ]
  }
 ],
 "metadata": {
  "kernelspec": {
   "display_name": "venv310",
   "language": "python",
   "name": "python3"
  },
  "language_info": {
   "codemirror_mode": {
    "name": "ipython",
    "version": 3
   },
   "file_extension": ".py",
   "mimetype": "text/x-python",
   "name": "python",
   "nbconvert_exporter": "python",
   "pygments_lexer": "ipython3",
   "version": "3.10.11"
  }
 },
 "nbformat": 4,
 "nbformat_minor": 2
}
