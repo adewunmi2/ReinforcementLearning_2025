{
 "cells": [
  {
   "cell_type": "markdown",
   "metadata": {},
   "source": [
    "### Here, I tried it with the model v4"
   ]
  },
  {
   "cell_type": "code",
   "execution_count": 1,
   "metadata": {},
   "outputs": [],
   "source": [
    "# importing the Python libraries module\n",
    "import gymnasium as gym\n",
    "import ale_py\n",
    "from  IPython.display import clear_output\n",
    "\n",
    "from stable_baselines3 import PPO, DQN, A2C\n",
    "from stable_baselines3.common.env_util import make_atari_env\n",
    "\n",
    "from stable_baselines3.common.vec_env import VecFrameStack, VecVideoRecorder\n",
    "\n",
    "import matplotlib.pyplot as plt\n",
    "import os\n",
    "import re\n",
    "\n",
    "# INSTALL MOVIEPY => pip install gymnasium[other]\n",
    "env_name = 'AssaultNoFrameskip-v4'\n",
    "\n",
    "# create multiple connected envs at same time by using make_atari_env + SubprocVecEnv\n",
    "env = make_atari_env(env_name, wrapper_kwargs={'terminal_on_life_loss': False, 'clip_reward': False})\n",
    "\n",
    "env = VecFrameStack(env, n_stack=4)\n",
    "\n",
    "# wrap the environment to capture video\n",
    "# ADJUST THE VIDEO LENGTH IF YOU DON'T GET ANY VIDEOS PRODUCED (1000 is often good\n",
    "# try also 500 or 2000)\n",
    "env = VecVideoRecorder(\n",
    "    env, \n",
    "    video_folder=\"./videos\",\n",
    "    record_video_trigger=lambda x: True,\n",
    "    video_length=1000\n",
    ")"
   ]
  },
  {
   "cell_type": "markdown",
   "metadata": {},
   "source": [
    "#### The error: IndexError: list index out of range, is caused by due to this line: return (numbers[0], numbers[1]). And due to when the filename does not contain at least two numbers, so trying to access numbers[1] fails.\n",
    "#### So every file in the logs/ folder — even ones that might not be model files such as .json, .txt, .mp4, or maybe files with wrong names like log_config.txt or checkpoint.zip without numbers. \n",
    "#### In this instance, re.findall(r'\\d+', filename) not returning at least two numbers, accessing numbers[1] fails. The reason \n",
    "\n"
   ]
  },
  {
   "cell_type": "code",
   "execution_count": 3,
   "metadata": {},
   "outputs": [
    {
     "ename": "IndexError",
     "evalue": "list index out of range",
     "output_type": "error",
     "traceback": [
      "\u001b[1;31m---------------------------------------------------------------------------\u001b[0m",
      "\u001b[1;31mIndexError\u001b[0m                                Traceback (most recent call last)",
      "Cell \u001b[1;32mIn[3], line 11\u001b[0m\n\u001b[0;32m      8\u001b[0m     \u001b[38;5;28;01mreturn\u001b[39;00m (numbers[\u001b[38;5;241m0\u001b[39m], numbers[\u001b[38;5;241m1\u001b[39m])\n\u001b[0;32m     10\u001b[0m \u001b[38;5;66;03m# custom sorting\u001b[39;00m\n\u001b[1;32m---> 11\u001b[0m sorted_files \u001b[38;5;241m=\u001b[39m \u001b[38;5;28;43msorted\u001b[39;49m\u001b[43m(\u001b[49m\u001b[43mmodels\u001b[49m\u001b[43m,\u001b[49m\u001b[43m \u001b[49m\u001b[43mkey\u001b[49m\u001b[38;5;241;43m=\u001b[39;49m\u001b[43mextract_numbers\u001b[49m\u001b[43m)\u001b[49m\n\u001b[0;32m     12\u001b[0m models \u001b[38;5;241m=\u001b[39m sorted_files\n\u001b[0;32m     14\u001b[0m \u001b[38;5;66;03m# use latest model in the logs-folder\u001b[39;00m\n",
      "Cell \u001b[1;32mIn[3], line 8\u001b[0m, in \u001b[0;36mextract_numbers\u001b[1;34m(filename)\u001b[0m\n\u001b[0;32m      6\u001b[0m \u001b[38;5;28;01mdef\u001b[39;00m\u001b[38;5;250m \u001b[39m\u001b[38;5;21mextract_numbers\u001b[39m(filename):\n\u001b[0;32m      7\u001b[0m     numbers \u001b[38;5;241m=\u001b[39m \u001b[38;5;28mlist\u001b[39m(\u001b[38;5;28mmap\u001b[39m(\u001b[38;5;28mint\u001b[39m, re\u001b[38;5;241m.\u001b[39mfindall(\u001b[38;5;124mr\u001b[39m\u001b[38;5;124m'\u001b[39m\u001b[38;5;124m\\\u001b[39m\u001b[38;5;124md+\u001b[39m\u001b[38;5;124m'\u001b[39m, filename)))\n\u001b[1;32m----> 8\u001b[0m     \u001b[38;5;28;01mreturn\u001b[39;00m (numbers[\u001b[38;5;241m0\u001b[39m], \u001b[43mnumbers\u001b[49m\u001b[43m[\u001b[49m\u001b[38;5;241;43m1\u001b[39;49m\u001b[43m]\u001b[49m)\n",
      "\u001b[1;31mIndexError\u001b[0m: list index out of range"
     ]
    }
   ],
   "source": [
    "# get all checkpoint files in the folder\n",
    "models = os.listdir(\"logs/\")\n",
    "\n",
    "# ChatGPT generated originally (AND SURE LOOKS LIKE IT!!!!)'\n",
    "# function to extract numbers from the checkpoint file name\n",
    "def extract_numbers(filename):\n",
    "    numbers = list(map(int, re.findall(r'\\d+', filename)))\n",
    "    return (numbers[0], numbers[1])\n",
    "\n",
    "# custom sorting\n",
    "sorted_files = sorted(models, key=extract_numbers)\n",
    "models = sorted_files\n",
    "\n",
    "# use latest model in the logs-folder\n",
    "model_path = models[-1]\n",
    "model = PPO.load(f\"logs/{model_path}\", env=env)\n",
    "\n",
    "print(\"Using the latest model:\")\n",
    "print(model_path)"
   ]
  },
  {
   "cell_type": "code",
   "execution_count": null,
   "metadata": {},
   "outputs": [],
   "source": [
    "obs = env.reset()\n",
    "total_reward = 0\n",
    "done = False\n",
    "\n",
    "while not done:\n",
    "    action, _state = model.predict(obs)\n",
    "    obs, reward, done, info = env.step(action)\n",
    "\n",
    "    image = env.render(\"rgb_array\")\n",
    "    clear_output(wait=True)\n",
    "    plt.imshow(image)\n",
    "    plt.axis(\"off\")\n",
    "    plt.show()\n",
    "    total_reward += reward\n",
    "\n",
    "print(\"Total reward:\", total_reward)\n",
    "env.close()"
   ]
  }
 ],
 "metadata": {
  "kernelspec": {
   "display_name": "venv310",
   "language": "python",
   "name": "python3"
  },
  "language_info": {
   "codemirror_mode": {
    "name": "ipython",
    "version": 3
   },
   "file_extension": ".py",
   "mimetype": "text/x-python",
   "name": "python",
   "nbconvert_exporter": "python",
   "pygments_lexer": "ipython3",
   "version": "3.10.11"
  }
 },
 "nbformat": 4,
 "nbformat_minor": 2
}
