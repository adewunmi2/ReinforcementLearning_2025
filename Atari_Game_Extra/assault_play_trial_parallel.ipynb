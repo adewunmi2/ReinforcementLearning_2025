{
 "cells": [
  {
   "cell_type": "markdown",
   "metadata": {},
   "source": [
    "### Testing PARALLEL"
   ]
  },
  {
   "cell_type": "code",
   "execution_count": 6,
   "metadata": {},
   "outputs": [],
   "source": [
    "# importing the Python libraries module\n",
    "import gymnasium as gym\n",
    "import ale_py\n",
    "from  IPython.display import clear_output\n",
    "\n",
    "from stable_baselines3 import PPO, DQN, A2C\n",
    "from stable_baselines3.common.env_util import make_atari_env\n",
    "\n",
    "from stable_baselines3.common.vec_env import VecFrameStack, VecVideoRecorder\n",
    "\n",
    "import matplotlib.pyplot as plt\n",
    "import os\n",
    "import re\n",
    "\n",
    "# INSTALL MOVIEPY => pip install gymnasium[other]\n",
    "env_name = 'AssaultNoFrameskip-v4'\n",
    "\n",
    "# create multiple connected envs at same time by using make_atari_env + SubprocVecEnv\n",
    "env = make_atari_env(env_name, wrapper_kwargs={'terminal_on_life_loss': False, 'clip_reward': False})\n",
    "\n",
    "env = VecFrameStack(env, n_stack=4)\n",
    "\n",
    "# wrap the environment to capture video\n",
    "# ADJUST THE VIDEO LENGTH IF YOU DON'T GET ANY VIDEOS PRODUCED (1000 is often good\n",
    "# try also 500 or 2000)\n",
    "env = VecVideoRecorder(\n",
    "    env, \n",
    "    video_folder=\"./videos\",\n",
    "    record_video_trigger=lambda x: True,\n",
    "    video_length=1000\n",
    ")"
   ]
  },
  {
   "cell_type": "code",
   "execution_count": null,
   "metadata": {},
   "outputs": [
    {
     "name": "stdout",
     "output_type": "stream",
     "text": [
      "Using cpu device\n",
      "Wrapping the env in a VecTransposeImage.\n",
      "Saving video to c:\\Users\\User\\ReinforcementLearning_2025\\ReinforcementLearning_2025\\Atari_Game_Extra\\videos\\rl-video-step-0-to-step-1000.mp4\n",
      "MoviePy - Building video c:\\Users\\User\\ReinforcementLearning_2025\\ReinforcementLearning_2025\\Atari_Game_Extra\\videos\\rl-video-step-0-to-step-1000.mp4.\n",
      "MoviePy - Writing video c:\\Users\\User\\ReinforcementLearning_2025\\ReinforcementLearning_2025\\Atari_Game_Extra\\videos\\rl-video-step-0-to-step-1000.mp4\n",
      "\n"
     ]
    },
    {
     "name": "stderr",
     "output_type": "stream",
     "text": [
      "                                                                          \r"
     ]
    },
    {
     "name": "stdout",
     "output_type": "stream",
     "text": [
      "MoviePy - Done !\n",
      "MoviePy - video ready c:\\Users\\User\\ReinforcementLearning_2025\\ReinforcementLearning_2025\\Atari_Game_Extra\\videos\\rl-video-step-0-to-step-1000.mp4\n",
      "Saving video to c:\\Users\\User\\ReinforcementLearning_2025\\ReinforcementLearning_2025\\Atari_Game_Extra\\videos\\rl-video-step-1001-to-step-2001.mp4\n",
      "MoviePy - Building video c:\\Users\\User\\ReinforcementLearning_2025\\ReinforcementLearning_2025\\Atari_Game_Extra\\videos\\rl-video-step-1001-to-step-2001.mp4.\n",
      "MoviePy - Writing video c:\\Users\\User\\ReinforcementLearning_2025\\ReinforcementLearning_2025\\Atari_Game_Extra\\videos\\rl-video-step-1001-to-step-2001.mp4\n",
      "\n"
     ]
    },
    {
     "name": "stderr",
     "output_type": "stream",
     "text": [
      "                                                                          \r"
     ]
    },
    {
     "name": "stdout",
     "output_type": "stream",
     "text": [
      "MoviePy - Done !\n",
      "MoviePy - video ready c:\\Users\\User\\ReinforcementLearning_2025\\ReinforcementLearning_2025\\Atari_Game_Extra\\videos\\rl-video-step-1001-to-step-2001.mp4\n",
      "---------------------------------\n",
      "| rollout/           |          |\n",
      "|    ep_len_mean     | 2.63e+03 |\n",
      "|    ep_rew_mean     | 301      |\n",
      "| time/              |          |\n",
      "|    fps             | 105      |\n",
      "|    iterations      | 1        |\n",
      "|    time_elapsed    | 19       |\n",
      "|    total_timesteps | 2048     |\n",
      "---------------------------------\n",
      "Saving video to c:\\Users\\User\\ReinforcementLearning_2025\\ReinforcementLearning_2025\\Atari_Game_Extra\\videos\\rl-video-step-2002-to-step-3002.mp4\n",
      "MoviePy - Building video c:\\Users\\User\\ReinforcementLearning_2025\\ReinforcementLearning_2025\\Atari_Game_Extra\\videos\\rl-video-step-2002-to-step-3002.mp4.\n",
      "MoviePy - Writing video c:\\Users\\User\\ReinforcementLearning_2025\\ReinforcementLearning_2025\\Atari_Game_Extra\\videos\\rl-video-step-2002-to-step-3002.mp4\n",
      "\n"
     ]
    },
    {
     "name": "stderr",
     "output_type": "stream",
     "text": [
      "                                                                          \r"
     ]
    },
    {
     "name": "stdout",
     "output_type": "stream",
     "text": [
      "MoviePy - Done !\n",
      "MoviePy - video ready c:\\Users\\User\\ReinforcementLearning_2025\\ReinforcementLearning_2025\\Atari_Game_Extra\\videos\\rl-video-step-2002-to-step-3002.mp4\n",
      "Saving video to c:\\Users\\User\\ReinforcementLearning_2025\\ReinforcementLearning_2025\\Atari_Game_Extra\\videos\\rl-video-step-3003-to-step-4003.mp4\n",
      "MoviePy - Building video c:\\Users\\User\\ReinforcementLearning_2025\\ReinforcementLearning_2025\\Atari_Game_Extra\\videos\\rl-video-step-3003-to-step-4003.mp4.\n",
      "MoviePy - Writing video c:\\Users\\User\\ReinforcementLearning_2025\\ReinforcementLearning_2025\\Atari_Game_Extra\\videos\\rl-video-step-3003-to-step-4003.mp4\n",
      "\n"
     ]
    },
    {
     "name": "stderr",
     "output_type": "stream",
     "text": [
      "                                                                          \r"
     ]
    },
    {
     "name": "stdout",
     "output_type": "stream",
     "text": [
      "MoviePy - Done !\n",
      "MoviePy - video ready c:\\Users\\User\\ReinforcementLearning_2025\\ReinforcementLearning_2025\\Atari_Game_Extra\\videos\\rl-video-step-3003-to-step-4003.mp4\n",
      "------------------------------------------\n",
      "| rollout/                |              |\n",
      "|    ep_len_mean          | 2.7e+03      |\n",
      "|    ep_rew_mean          | 287          |\n",
      "| time/                   |              |\n",
      "|    fps                  | 53           |\n",
      "|    iterations           | 2            |\n",
      "|    time_elapsed         | 76           |\n",
      "|    total_timesteps      | 4096         |\n",
      "| train/                  |              |\n",
      "|    approx_kl            | 0.0071405265 |\n",
      "|    clip_fraction        | 0.111        |\n",
      "|    clip_range           | 0.2          |\n",
      "|    entropy_loss         | -1.94        |\n",
      "|    explained_variance   | 0.000325     |\n",
      "|    learning_rate        | 0.0003       |\n",
      "|    loss                 | 14           |\n",
      "|    n_updates            | 10           |\n",
      "|    policy_gradient_loss | -0.00722     |\n",
      "|    value_loss           | 42.1         |\n",
      "------------------------------------------\n",
      "Saving video to c:\\Users\\User\\ReinforcementLearning_2025\\ReinforcementLearning_2025\\Atari_Game_Extra\\videos\\rl-video-step-4004-to-step-5004.mp4\n",
      "MoviePy - Building video c:\\Users\\User\\ReinforcementLearning_2025\\ReinforcementLearning_2025\\Atari_Game_Extra\\videos\\rl-video-step-4004-to-step-5004.mp4.\n",
      "MoviePy - Writing video c:\\Users\\User\\ReinforcementLearning_2025\\ReinforcementLearning_2025\\Atari_Game_Extra\\videos\\rl-video-step-4004-to-step-5004.mp4\n",
      "\n"
     ]
    },
    {
     "name": "stderr",
     "output_type": "stream",
     "text": [
      "                                                                          \r"
     ]
    },
    {
     "name": "stdout",
     "output_type": "stream",
     "text": [
      "MoviePy - Done !\n",
      "MoviePy - video ready c:\\Users\\User\\ReinforcementLearning_2025\\ReinforcementLearning_2025\\Atari_Game_Extra\\videos\\rl-video-step-4004-to-step-5004.mp4\n",
      "Saving video to c:\\Users\\User\\ReinforcementLearning_2025\\ReinforcementLearning_2025\\Atari_Game_Extra\\videos\\rl-video-step-5005-to-step-6005.mp4\n",
      "MoviePy - Building video c:\\Users\\User\\ReinforcementLearning_2025\\ReinforcementLearning_2025\\Atari_Game_Extra\\videos\\rl-video-step-5005-to-step-6005.mp4.\n",
      "MoviePy - Writing video c:\\Users\\User\\ReinforcementLearning_2025\\ReinforcementLearning_2025\\Atari_Game_Extra\\videos\\rl-video-step-5005-to-step-6005.mp4\n",
      "\n"
     ]
    },
    {
     "name": "stderr",
     "output_type": "stream",
     "text": [
      "                                                                          \r"
     ]
    },
    {
     "name": "stdout",
     "output_type": "stream",
     "text": [
      "MoviePy - Done !\n",
      "MoviePy - video ready c:\\Users\\User\\ReinforcementLearning_2025\\ReinforcementLearning_2025\\Atari_Game_Extra\\videos\\rl-video-step-5005-to-step-6005.mp4\n",
      "-----------------------------------------\n",
      "| rollout/                |             |\n",
      "|    ep_len_mean          | 2.71e+03    |\n",
      "|    ep_rew_mean          | 294         |\n",
      "| time/                   |             |\n",
      "|    fps                  | 47          |\n",
      "|    iterations           | 3           |\n",
      "|    time_elapsed         | 129         |\n",
      "|    total_timesteps      | 6144        |\n",
      "| train/                  |             |\n",
      "|    approx_kl            | 0.012094522 |\n",
      "|    clip_fraction        | 0.141       |\n",
      "|    clip_range           | 0.2         |\n",
      "|    entropy_loss         | -1.93       |\n",
      "|    explained_variance   | 0.0458      |\n",
      "|    learning_rate        | 0.0003      |\n",
      "|    loss                 | 16.3        |\n",
      "|    n_updates            | 20          |\n",
      "|    policy_gradient_loss | -0.00549    |\n",
      "|    value_loss           | 38.7        |\n",
      "-----------------------------------------\n",
      "Saving video to c:\\Users\\User\\ReinforcementLearning_2025\\ReinforcementLearning_2025\\Atari_Game_Extra\\videos\\rl-video-step-6006-to-step-7006.mp4\n",
      "MoviePy - Building video c:\\Users\\User\\ReinforcementLearning_2025\\ReinforcementLearning_2025\\Atari_Game_Extra\\videos\\rl-video-step-6006-to-step-7006.mp4.\n",
      "MoviePy - Writing video c:\\Users\\User\\ReinforcementLearning_2025\\ReinforcementLearning_2025\\Atari_Game_Extra\\videos\\rl-video-step-6006-to-step-7006.mp4\n",
      "\n"
     ]
    },
    {
     "name": "stderr",
     "output_type": "stream",
     "text": [
      "                                                                          \r"
     ]
    },
    {
     "name": "stdout",
     "output_type": "stream",
     "text": [
      "MoviePy - Done !\n",
      "MoviePy - video ready c:\\Users\\User\\ReinforcementLearning_2025\\ReinforcementLearning_2025\\Atari_Game_Extra\\videos\\rl-video-step-6006-to-step-7006.mp4\n",
      "Saving video to c:\\Users\\User\\ReinforcementLearning_2025\\ReinforcementLearning_2025\\Atari_Game_Extra\\videos\\rl-video-step-7007-to-step-8007.mp4\n",
      "MoviePy - Building video c:\\Users\\User\\ReinforcementLearning_2025\\ReinforcementLearning_2025\\Atari_Game_Extra\\videos\\rl-video-step-7007-to-step-8007.mp4.\n",
      "MoviePy - Writing video c:\\Users\\User\\ReinforcementLearning_2025\\ReinforcementLearning_2025\\Atari_Game_Extra\\videos\\rl-video-step-7007-to-step-8007.mp4\n",
      "\n"
     ]
    },
    {
     "name": "stderr",
     "output_type": "stream",
     "text": [
      "                                                                          \r"
     ]
    },
    {
     "name": "stdout",
     "output_type": "stream",
     "text": [
      "MoviePy - Done !\n",
      "MoviePy - video ready c:\\Users\\User\\ReinforcementLearning_2025\\ReinforcementLearning_2025\\Atari_Game_Extra\\videos\\rl-video-step-7007-to-step-8007.mp4\n",
      "-----------------------------------------\n",
      "| rollout/                |             |\n",
      "|    ep_len_mean          | 2.6e+03     |\n",
      "|    ep_rew_mean          | 275         |\n",
      "| time/                   |             |\n",
      "|    fps                  | 43          |\n",
      "|    iterations           | 4           |\n",
      "|    time_elapsed         | 190         |\n",
      "|    total_timesteps      | 8192        |\n",
      "| train/                  |             |\n",
      "|    approx_kl            | 0.015499967 |\n",
      "|    clip_fraction        | 0.164       |\n",
      "|    clip_range           | 0.2         |\n",
      "|    entropy_loss         | -1.92       |\n",
      "|    explained_variance   | 0.186       |\n",
      "|    learning_rate        | 0.0003      |\n",
      "|    loss                 | 13.4        |\n",
      "|    n_updates            | 30          |\n",
      "|    policy_gradient_loss | -0.00495    |\n",
      "|    value_loss           | 39.7        |\n",
      "-----------------------------------------\n",
      "Saving video to c:\\Users\\User\\ReinforcementLearning_2025\\ReinforcementLearning_2025\\Atari_Game_Extra\\videos\\rl-video-step-8008-to-step-9008.mp4\n",
      "MoviePy - Building video c:\\Users\\User\\ReinforcementLearning_2025\\ReinforcementLearning_2025\\Atari_Game_Extra\\videos\\rl-video-step-8008-to-step-9008.mp4.\n",
      "MoviePy - Writing video c:\\Users\\User\\ReinforcementLearning_2025\\ReinforcementLearning_2025\\Atari_Game_Extra\\videos\\rl-video-step-8008-to-step-9008.mp4\n",
      "\n"
     ]
    },
    {
     "name": "stderr",
     "output_type": "stream",
     "text": [
      "                                                                           \r"
     ]
    },
    {
     "name": "stdout",
     "output_type": "stream",
     "text": [
      "MoviePy - Done !\n",
      "MoviePy - video ready c:\\Users\\User\\ReinforcementLearning_2025\\ReinforcementLearning_2025\\Atari_Game_Extra\\videos\\rl-video-step-8008-to-step-9008.mp4\n",
      "Saving video to c:\\Users\\User\\ReinforcementLearning_2025\\ReinforcementLearning_2025\\Atari_Game_Extra\\videos\\rl-video-step-9009-to-step-10009.mp4\n",
      "MoviePy - Building video c:\\Users\\User\\ReinforcementLearning_2025\\ReinforcementLearning_2025\\Atari_Game_Extra\\videos\\rl-video-step-9009-to-step-10009.mp4.\n",
      "MoviePy - Writing video c:\\Users\\User\\ReinforcementLearning_2025\\ReinforcementLearning_2025\\Atari_Game_Extra\\videos\\rl-video-step-9009-to-step-10009.mp4\n",
      "\n"
     ]
    },
    {
     "name": "stderr",
     "output_type": "stream",
     "text": [
      "                                                                          \r"
     ]
    },
    {
     "name": "stdout",
     "output_type": "stream",
     "text": [
      "MoviePy - Done !\n",
      "MoviePy - video ready c:\\Users\\User\\ReinforcementLearning_2025\\ReinforcementLearning_2025\\Atari_Game_Extra\\videos\\rl-video-step-9009-to-step-10009.mp4\n",
      "-----------------------------------------\n",
      "| rollout/                |             |\n",
      "|    ep_len_mean          | 2.53e+03    |\n",
      "|    ep_rew_mean          | 264         |\n",
      "| time/                   |             |\n",
      "|    fps                  | 41          |\n",
      "|    iterations           | 5           |\n",
      "|    time_elapsed         | 246         |\n",
      "|    total_timesteps      | 10240       |\n",
      "| train/                  |             |\n",
      "|    approx_kl            | 0.023716077 |\n",
      "|    clip_fraction        | 0.256       |\n",
      "|    clip_range           | 0.2         |\n",
      "|    entropy_loss         | -1.9        |\n",
      "|    explained_variance   | 0.248       |\n",
      "|    learning_rate        | 0.0003      |\n",
      "|    loss                 | 5.69        |\n",
      "|    n_updates            | 40          |\n",
      "|    policy_gradient_loss | -0.0044     |\n",
      "|    value_loss           | 30.4        |\n",
      "-----------------------------------------\n",
      "Saving video to c:\\Users\\User\\ReinforcementLearning_2025\\ReinforcementLearning_2025\\Atari_Game_Extra\\videos\\rl-video-step-10010-to-step-11010.mp4\n",
      "MoviePy - Building video c:\\Users\\User\\ReinforcementLearning_2025\\ReinforcementLearning_2025\\Atari_Game_Extra\\videos\\rl-video-step-10010-to-step-11010.mp4.\n",
      "MoviePy - Writing video c:\\Users\\User\\ReinforcementLearning_2025\\ReinforcementLearning_2025\\Atari_Game_Extra\\videos\\rl-video-step-10010-to-step-11010.mp4\n",
      "\n"
     ]
    },
    {
     "name": "stderr",
     "output_type": "stream",
     "text": [
      "                                                                          \r"
     ]
    },
    {
     "name": "stdout",
     "output_type": "stream",
     "text": [
      "MoviePy - Done !\n",
      "MoviePy - video ready c:\\Users\\User\\ReinforcementLearning_2025\\ReinforcementLearning_2025\\Atari_Game_Extra\\videos\\rl-video-step-10010-to-step-11010.mp4\n",
      "Saving video to c:\\Users\\User\\ReinforcementLearning_2025\\ReinforcementLearning_2025\\Atari_Game_Extra\\videos\\rl-video-step-11011-to-step-12011.mp4\n",
      "MoviePy - Building video c:\\Users\\User\\ReinforcementLearning_2025\\ReinforcementLearning_2025\\Atari_Game_Extra\\videos\\rl-video-step-11011-to-step-12011.mp4.\n",
      "MoviePy - Writing video c:\\Users\\User\\ReinforcementLearning_2025\\ReinforcementLearning_2025\\Atari_Game_Extra\\videos\\rl-video-step-11011-to-step-12011.mp4\n",
      "\n"
     ]
    },
    {
     "name": "stderr",
     "output_type": "stream",
     "text": [
      "                                                                          \r"
     ]
    },
    {
     "name": "stdout",
     "output_type": "stream",
     "text": [
      "MoviePy - Done !\n",
      "MoviePy - video ready c:\\Users\\User\\ReinforcementLearning_2025\\ReinforcementLearning_2025\\Atari_Game_Extra\\videos\\rl-video-step-11011-to-step-12011.mp4\n",
      "-----------------------------------------\n",
      "| rollout/                |             |\n",
      "|    ep_len_mean          | 2.6e+03     |\n",
      "|    ep_rew_mean          | 272         |\n",
      "| time/                   |             |\n",
      "|    fps                  | 41          |\n",
      "|    iterations           | 6           |\n",
      "|    time_elapsed         | 297         |\n",
      "|    total_timesteps      | 12288       |\n",
      "| train/                  |             |\n",
      "|    approx_kl            | 0.023992494 |\n",
      "|    clip_fraction        | 0.287       |\n",
      "|    clip_range           | 0.2         |\n",
      "|    entropy_loss         | -1.89       |\n",
      "|    explained_variance   | 0.46        |\n",
      "|    learning_rate        | 0.0003      |\n",
      "|    loss                 | 10.1        |\n",
      "|    n_updates            | 50          |\n",
      "|    policy_gradient_loss | -0.000543   |\n",
      "|    value_loss           | 27.7        |\n",
      "-----------------------------------------\n",
      "Saving video to c:\\Users\\User\\ReinforcementLearning_2025\\ReinforcementLearning_2025\\Atari_Game_Extra\\videos\\rl-video-step-12012-to-step-13012.mp4\n",
      "MoviePy - Building video c:\\Users\\User\\ReinforcementLearning_2025\\ReinforcementLearning_2025\\Atari_Game_Extra\\videos\\rl-video-step-12012-to-step-13012.mp4.\n",
      "MoviePy - Writing video c:\\Users\\User\\ReinforcementLearning_2025\\ReinforcementLearning_2025\\Atari_Game_Extra\\videos\\rl-video-step-12012-to-step-13012.mp4\n",
      "\n"
     ]
    },
    {
     "name": "stderr",
     "output_type": "stream",
     "text": [
      "                                                                          \r"
     ]
    },
    {
     "name": "stdout",
     "output_type": "stream",
     "text": [
      "MoviePy - Done !\n",
      "MoviePy - video ready c:\\Users\\User\\ReinforcementLearning_2025\\ReinforcementLearning_2025\\Atari_Game_Extra\\videos\\rl-video-step-12012-to-step-13012.mp4\n",
      "Saving video to c:\\Users\\User\\ReinforcementLearning_2025\\ReinforcementLearning_2025\\Atari_Game_Extra\\videos\\rl-video-step-13013-to-step-14013.mp4\n",
      "MoviePy - Building video c:\\Users\\User\\ReinforcementLearning_2025\\ReinforcementLearning_2025\\Atari_Game_Extra\\videos\\rl-video-step-13013-to-step-14013.mp4.\n",
      "MoviePy - Writing video c:\\Users\\User\\ReinforcementLearning_2025\\ReinforcementLearning_2025\\Atari_Game_Extra\\videos\\rl-video-step-13013-to-step-14013.mp4\n",
      "\n"
     ]
    },
    {
     "name": "stderr",
     "output_type": "stream",
     "text": [
      "                                                                          \r"
     ]
    },
    {
     "name": "stdout",
     "output_type": "stream",
     "text": [
      "MoviePy - Done !\n",
      "MoviePy - video ready c:\\Users\\User\\ReinforcementLearning_2025\\ReinforcementLearning_2025\\Atari_Game_Extra\\videos\\rl-video-step-13013-to-step-14013.mp4\n",
      "----------------------------------------\n",
      "| rollout/                |            |\n",
      "|    ep_len_mean          | 2.69e+03   |\n",
      "|    ep_rew_mean          | 283        |\n",
      "| time/                   |            |\n",
      "|    fps                  | 41         |\n",
      "|    iterations           | 7          |\n",
      "|    time_elapsed         | 347        |\n",
      "|    total_timesteps      | 14336      |\n",
      "| train/                  |            |\n",
      "|    approx_kl            | 0.03601236 |\n",
      "|    clip_fraction        | 0.347      |\n",
      "|    clip_range           | 0.2        |\n",
      "|    entropy_loss         | -1.85      |\n",
      "|    explained_variance   | 0.352      |\n",
      "|    learning_rate        | 0.0003     |\n",
      "|    loss                 | 7.33       |\n",
      "|    n_updates            | 60         |\n",
      "|    policy_gradient_loss | -0.00398   |\n",
      "|    value_loss           | 27         |\n",
      "----------------------------------------\n",
      "Saving video to c:\\Users\\User\\ReinforcementLearning_2025\\ReinforcementLearning_2025\\Atari_Game_Extra\\videos\\rl-video-step-14014-to-step-15014.mp4\n",
      "MoviePy - Building video c:\\Users\\User\\ReinforcementLearning_2025\\ReinforcementLearning_2025\\Atari_Game_Extra\\videos\\rl-video-step-14014-to-step-15014.mp4.\n",
      "MoviePy - Writing video c:\\Users\\User\\ReinforcementLearning_2025\\ReinforcementLearning_2025\\Atari_Game_Extra\\videos\\rl-video-step-14014-to-step-15014.mp4\n",
      "\n"
     ]
    },
    {
     "name": "stderr",
     "output_type": "stream",
     "text": [
      "                                                                          \r"
     ]
    },
    {
     "name": "stdout",
     "output_type": "stream",
     "text": [
      "MoviePy - Done !\n",
      "MoviePy - video ready c:\\Users\\User\\ReinforcementLearning_2025\\ReinforcementLearning_2025\\Atari_Game_Extra\\videos\\rl-video-step-14014-to-step-15014.mp4\n",
      "Saving video to c:\\Users\\User\\ReinforcementLearning_2025\\ReinforcementLearning_2025\\Atari_Game_Extra\\videos\\rl-video-step-15015-to-step-16015.mp4\n",
      "MoviePy - Building video c:\\Users\\User\\ReinforcementLearning_2025\\ReinforcementLearning_2025\\Atari_Game_Extra\\videos\\rl-video-step-15015-to-step-16015.mp4.\n",
      "MoviePy - Writing video c:\\Users\\User\\ReinforcementLearning_2025\\ReinforcementLearning_2025\\Atari_Game_Extra\\videos\\rl-video-step-15015-to-step-16015.mp4\n",
      "\n"
     ]
    },
    {
     "name": "stderr",
     "output_type": "stream",
     "text": [
      "                                                                          \r"
     ]
    },
    {
     "name": "stdout",
     "output_type": "stream",
     "text": [
      "MoviePy - Done !\n",
      "MoviePy - video ready c:\\Users\\User\\ReinforcementLearning_2025\\ReinforcementLearning_2025\\Atari_Game_Extra\\videos\\rl-video-step-15015-to-step-16015.mp4\n",
      "-----------------------------------------\n",
      "| rollout/                |             |\n",
      "|    ep_len_mean          | 2.66e+03    |\n",
      "|    ep_rew_mean          | 272         |\n",
      "| time/                   |             |\n",
      "|    fps                  | 40          |\n",
      "|    iterations           | 8           |\n",
      "|    time_elapsed         | 400         |\n",
      "|    total_timesteps      | 16384       |\n",
      "| train/                  |             |\n",
      "|    approx_kl            | 0.062020957 |\n",
      "|    clip_fraction        | 0.38        |\n",
      "|    clip_range           | 0.2         |\n",
      "|    entropy_loss         | -1.8        |\n",
      "|    explained_variance   | 0.385       |\n",
      "|    learning_rate        | 0.0003      |\n",
      "|    loss                 | 3.57        |\n",
      "|    n_updates            | 70          |\n",
      "|    policy_gradient_loss | -0.00384    |\n",
      "|    value_loss           | 27          |\n",
      "-----------------------------------------\n",
      "Saving video to c:\\Users\\User\\ReinforcementLearning_2025\\ReinforcementLearning_2025\\Atari_Game_Extra\\videos\\rl-video-step-16016-to-step-17016.mp4\n",
      "MoviePy - Building video c:\\Users\\User\\ReinforcementLearning_2025\\ReinforcementLearning_2025\\Atari_Game_Extra\\videos\\rl-video-step-16016-to-step-17016.mp4.\n",
      "MoviePy - Writing video c:\\Users\\User\\ReinforcementLearning_2025\\ReinforcementLearning_2025\\Atari_Game_Extra\\videos\\rl-video-step-16016-to-step-17016.mp4\n",
      "\n"
     ]
    },
    {
     "name": "stderr",
     "output_type": "stream",
     "text": [
      "                                                                          \r"
     ]
    },
    {
     "name": "stdout",
     "output_type": "stream",
     "text": [
      "MoviePy - Done !\n",
      "MoviePy - video ready c:\\Users\\User\\ReinforcementLearning_2025\\ReinforcementLearning_2025\\Atari_Game_Extra\\videos\\rl-video-step-16016-to-step-17016.mp4\n",
      "Saving video to c:\\Users\\User\\ReinforcementLearning_2025\\ReinforcementLearning_2025\\Atari_Game_Extra\\videos\\rl-video-step-17017-to-step-18017.mp4\n",
      "MoviePy - Building video c:\\Users\\User\\ReinforcementLearning_2025\\ReinforcementLearning_2025\\Atari_Game_Extra\\videos\\rl-video-step-17017-to-step-18017.mp4.\n",
      "MoviePy - Writing video c:\\Users\\User\\ReinforcementLearning_2025\\ReinforcementLearning_2025\\Atari_Game_Extra\\videos\\rl-video-step-17017-to-step-18017.mp4\n",
      "\n"
     ]
    },
    {
     "name": "stderr",
     "output_type": "stream",
     "text": [
      "                                                                          \r"
     ]
    },
    {
     "name": "stdout",
     "output_type": "stream",
     "text": [
      "MoviePy - Done !\n",
      "MoviePy - video ready c:\\Users\\User\\ReinforcementLearning_2025\\ReinforcementLearning_2025\\Atari_Game_Extra\\videos\\rl-video-step-17017-to-step-18017.mp4\n",
      "-----------------------------------------\n",
      "| rollout/                |             |\n",
      "|    ep_len_mean          | 2.7e+03     |\n",
      "|    ep_rew_mean          | 281         |\n",
      "| time/                   |             |\n",
      "|    fps                  | 40          |\n",
      "|    iterations           | 9           |\n",
      "|    time_elapsed         | 451         |\n",
      "|    total_timesteps      | 18432       |\n",
      "| train/                  |             |\n",
      "|    approx_kl            | 0.039451867 |\n",
      "|    clip_fraction        | 0.393       |\n",
      "|    clip_range           | 0.2         |\n",
      "|    entropy_loss         | -1.74       |\n",
      "|    explained_variance   | 0.6         |\n",
      "|    learning_rate        | 0.0003      |\n",
      "|    loss                 | 3.6         |\n",
      "|    n_updates            | 80          |\n",
      "|    policy_gradient_loss | -0.00319    |\n",
      "|    value_loss           | 20.8        |\n",
      "-----------------------------------------\n",
      "Saving video to c:\\Users\\User\\ReinforcementLearning_2025\\ReinforcementLearning_2025\\Atari_Game_Extra\\videos\\rl-video-step-18018-to-step-19018.mp4\n",
      "MoviePy - Building video c:\\Users\\User\\ReinforcementLearning_2025\\ReinforcementLearning_2025\\Atari_Game_Extra\\videos\\rl-video-step-18018-to-step-19018.mp4.\n",
      "MoviePy - Writing video c:\\Users\\User\\ReinforcementLearning_2025\\ReinforcementLearning_2025\\Atari_Game_Extra\\videos\\rl-video-step-18018-to-step-19018.mp4\n",
      "\n"
     ]
    },
    {
     "name": "stderr",
     "output_type": "stream",
     "text": [
      "                                                                          \r"
     ]
    },
    {
     "name": "stdout",
     "output_type": "stream",
     "text": [
      "MoviePy - Done !\n",
      "MoviePy - video ready c:\\Users\\User\\ReinforcementLearning_2025\\ReinforcementLearning_2025\\Atari_Game_Extra\\videos\\rl-video-step-18018-to-step-19018.mp4\n",
      "Saving video to c:\\Users\\User\\ReinforcementLearning_2025\\ReinforcementLearning_2025\\Atari_Game_Extra\\videos\\rl-video-step-19019-to-step-20019.mp4\n",
      "MoviePy - Building video c:\\Users\\User\\ReinforcementLearning_2025\\ReinforcementLearning_2025\\Atari_Game_Extra\\videos\\rl-video-step-19019-to-step-20019.mp4.\n",
      "MoviePy - Writing video c:\\Users\\User\\ReinforcementLearning_2025\\ReinforcementLearning_2025\\Atari_Game_Extra\\videos\\rl-video-step-19019-to-step-20019.mp4\n",
      "\n"
     ]
    },
    {
     "name": "stderr",
     "output_type": "stream",
     "text": [
      "                                                                          \r"
     ]
    },
    {
     "name": "stdout",
     "output_type": "stream",
     "text": [
      "MoviePy - Done !\n",
      "MoviePy - video ready c:\\Users\\User\\ReinforcementLearning_2025\\ReinforcementLearning_2025\\Atari_Game_Extra\\videos\\rl-video-step-19019-to-step-20019.mp4\n",
      "-----------------------------------------\n",
      "| rollout/                |             |\n",
      "|    ep_len_mean          | 2.65e+03    |\n",
      "|    ep_rew_mean          | 276         |\n",
      "| time/                   |             |\n",
      "|    fps                  | 40          |\n",
      "|    iterations           | 10          |\n",
      "|    time_elapsed         | 501         |\n",
      "|    total_timesteps      | 20480       |\n",
      "| train/                  |             |\n",
      "|    approx_kl            | 0.048120916 |\n",
      "|    clip_fraction        | 0.378       |\n",
      "|    clip_range           | 0.2         |\n",
      "|    entropy_loss         | -1.7        |\n",
      "|    explained_variance   | 0.307       |\n",
      "|    learning_rate        | 0.0003      |\n",
      "|    loss                 | 8.25        |\n",
      "|    n_updates            | 90          |\n",
      "|    policy_gradient_loss | -0.00334    |\n",
      "|    value_loss           | 31.6        |\n",
      "-----------------------------------------\n",
      "Saving video to c:\\Users\\User\\ReinforcementLearning_2025\\ReinforcementLearning_2025\\Atari_Game_Extra\\videos\\rl-video-step-20020-to-step-21020.mp4\n",
      "MoviePy - Building video c:\\Users\\User\\ReinforcementLearning_2025\\ReinforcementLearning_2025\\Atari_Game_Extra\\videos\\rl-video-step-20020-to-step-21020.mp4.\n",
      "MoviePy - Writing video c:\\Users\\User\\ReinforcementLearning_2025\\ReinforcementLearning_2025\\Atari_Game_Extra\\videos\\rl-video-step-20020-to-step-21020.mp4\n",
      "\n"
     ]
    },
    {
     "name": "stderr",
     "output_type": "stream",
     "text": [
      "                                                                          \r"
     ]
    },
    {
     "name": "stdout",
     "output_type": "stream",
     "text": [
      "MoviePy - Done !\n",
      "MoviePy - video ready c:\\Users\\User\\ReinforcementLearning_2025\\ReinforcementLearning_2025\\Atari_Game_Extra\\videos\\rl-video-step-20020-to-step-21020.mp4\n",
      "Saving video to c:\\Users\\User\\ReinforcementLearning_2025\\ReinforcementLearning_2025\\Atari_Game_Extra\\videos\\rl-video-step-21021-to-step-22021.mp4\n",
      "MoviePy - Building video c:\\Users\\User\\ReinforcementLearning_2025\\ReinforcementLearning_2025\\Atari_Game_Extra\\videos\\rl-video-step-21021-to-step-22021.mp4.\n",
      "MoviePy - Writing video c:\\Users\\User\\ReinforcementLearning_2025\\ReinforcementLearning_2025\\Atari_Game_Extra\\videos\\rl-video-step-21021-to-step-22021.mp4\n",
      "\n"
     ]
    },
    {
     "name": "stderr",
     "output_type": "stream",
     "text": [
      "                                                                          \r"
     ]
    },
    {
     "name": "stdout",
     "output_type": "stream",
     "text": [
      "MoviePy - Done !\n",
      "MoviePy - video ready c:\\Users\\User\\ReinforcementLearning_2025\\ReinforcementLearning_2025\\Atari_Game_Extra\\videos\\rl-video-step-21021-to-step-22021.mp4\n",
      "---------------------------------------\n",
      "| rollout/                |           |\n",
      "|    ep_len_mean          | 2.67e+03  |\n",
      "|    ep_rew_mean          | 287       |\n",
      "| time/                   |           |\n",
      "|    fps                  | 40        |\n",
      "|    iterations           | 11        |\n",
      "|    time_elapsed         | 555       |\n",
      "|    total_timesteps      | 22528     |\n",
      "| train/                  |           |\n",
      "|    approx_kl            | 0.0480563 |\n",
      "|    clip_fraction        | 0.442     |\n",
      "|    clip_range           | 0.2       |\n",
      "|    entropy_loss         | -1.7      |\n",
      "|    explained_variance   | 0.481     |\n",
      "|    learning_rate        | 0.0003    |\n",
      "|    loss                 | 3.65      |\n",
      "|    n_updates            | 100       |\n",
      "|    policy_gradient_loss | 0.00366   |\n",
      "|    value_loss           | 23.3      |\n",
      "---------------------------------------\n",
      "Saving video to c:\\Users\\User\\ReinforcementLearning_2025\\ReinforcementLearning_2025\\Atari_Game_Extra\\videos\\rl-video-step-22022-to-step-23022.mp4\n",
      "MoviePy - Building video c:\\Users\\User\\ReinforcementLearning_2025\\ReinforcementLearning_2025\\Atari_Game_Extra\\videos\\rl-video-step-22022-to-step-23022.mp4.\n",
      "MoviePy - Writing video c:\\Users\\User\\ReinforcementLearning_2025\\ReinforcementLearning_2025\\Atari_Game_Extra\\videos\\rl-video-step-22022-to-step-23022.mp4\n",
      "\n"
     ]
    },
    {
     "name": "stderr",
     "output_type": "stream",
     "text": [
      "                                                                          \r"
     ]
    },
    {
     "name": "stdout",
     "output_type": "stream",
     "text": [
      "MoviePy - Done !\n",
      "MoviePy - video ready c:\\Users\\User\\ReinforcementLearning_2025\\ReinforcementLearning_2025\\Atari_Game_Extra\\videos\\rl-video-step-22022-to-step-23022.mp4\n",
      "Saving video to c:\\Users\\User\\ReinforcementLearning_2025\\ReinforcementLearning_2025\\Atari_Game_Extra\\videos\\rl-video-step-23023-to-step-24023.mp4\n",
      "MoviePy - Building video c:\\Users\\User\\ReinforcementLearning_2025\\ReinforcementLearning_2025\\Atari_Game_Extra\\videos\\rl-video-step-23023-to-step-24023.mp4.\n",
      "MoviePy - Writing video c:\\Users\\User\\ReinforcementLearning_2025\\ReinforcementLearning_2025\\Atari_Game_Extra\\videos\\rl-video-step-23023-to-step-24023.mp4\n",
      "\n"
     ]
    },
    {
     "name": "stderr",
     "output_type": "stream",
     "text": [
      "                                                                          \r"
     ]
    },
    {
     "name": "stdout",
     "output_type": "stream",
     "text": [
      "MoviePy - Done !\n",
      "MoviePy - video ready c:\\Users\\User\\ReinforcementLearning_2025\\ReinforcementLearning_2025\\Atari_Game_Extra\\videos\\rl-video-step-23023-to-step-24023.mp4\n",
      "----------------------------------------\n",
      "| rollout/                |            |\n",
      "|    ep_len_mean          | 2.64e+03   |\n",
      "|    ep_rew_mean          | 289        |\n",
      "| time/                   |            |\n",
      "|    fps                  | 40         |\n",
      "|    iterations           | 12         |\n",
      "|    time_elapsed         | 610        |\n",
      "|    total_timesteps      | 24576      |\n",
      "| train/                  |            |\n",
      "|    approx_kl            | 0.05902551 |\n",
      "|    clip_fraction        | 0.447      |\n",
      "|    clip_range           | 0.2        |\n",
      "|    entropy_loss         | -1.7       |\n",
      "|    explained_variance   | 0.664      |\n",
      "|    learning_rate        | 0.0003     |\n",
      "|    loss                 | 6.76       |\n",
      "|    n_updates            | 110        |\n",
      "|    policy_gradient_loss | -0.00159   |\n",
      "|    value_loss           | 21.2       |\n",
      "----------------------------------------\n",
      "Saving video to c:\\Users\\User\\ReinforcementLearning_2025\\ReinforcementLearning_2025\\Atari_Game_Extra\\videos\\rl-video-step-24024-to-step-25024.mp4\n",
      "MoviePy - Building video c:\\Users\\User\\ReinforcementLearning_2025\\ReinforcementLearning_2025\\Atari_Game_Extra\\videos\\rl-video-step-24024-to-step-25024.mp4.\n",
      "MoviePy - Writing video c:\\Users\\User\\ReinforcementLearning_2025\\ReinforcementLearning_2025\\Atari_Game_Extra\\videos\\rl-video-step-24024-to-step-25024.mp4\n",
      "\n"
     ]
    },
    {
     "name": "stderr",
     "output_type": "stream",
     "text": [
      "                                                                          \r"
     ]
    },
    {
     "name": "stdout",
     "output_type": "stream",
     "text": [
      "MoviePy - Done !\n",
      "MoviePy - video ready c:\\Users\\User\\ReinforcementLearning_2025\\ReinforcementLearning_2025\\Atari_Game_Extra\\videos\\rl-video-step-24024-to-step-25024.mp4\n",
      "Saving video to c:\\Users\\User\\ReinforcementLearning_2025\\ReinforcementLearning_2025\\Atari_Game_Extra\\videos\\rl-video-step-25025-to-step-26025.mp4\n",
      "MoviePy - Building video c:\\Users\\User\\ReinforcementLearning_2025\\ReinforcementLearning_2025\\Atari_Game_Extra\\videos\\rl-video-step-25025-to-step-26025.mp4.\n",
      "MoviePy - Writing video c:\\Users\\User\\ReinforcementLearning_2025\\ReinforcementLearning_2025\\Atari_Game_Extra\\videos\\rl-video-step-25025-to-step-26025.mp4\n",
      "\n"
     ]
    },
    {
     "name": "stderr",
     "output_type": "stream",
     "text": [
      "                                                                          \r"
     ]
    },
    {
     "name": "stdout",
     "output_type": "stream",
     "text": [
      "MoviePy - Done !\n",
      "MoviePy - video ready c:\\Users\\User\\ReinforcementLearning_2025\\ReinforcementLearning_2025\\Atari_Game_Extra\\videos\\rl-video-step-25025-to-step-26025.mp4\n",
      "-----------------------------------------\n",
      "| rollout/                |             |\n",
      "|    ep_len_mean          | 2.65e+03    |\n",
      "|    ep_rew_mean          | 295         |\n",
      "| time/                   |             |\n",
      "|    fps                  | 40          |\n",
      "|    iterations           | 13          |\n",
      "|    time_elapsed         | 660         |\n",
      "|    total_timesteps      | 26624       |\n",
      "| train/                  |             |\n",
      "|    approx_kl            | 0.037300657 |\n",
      "|    clip_fraction        | 0.411       |\n",
      "|    clip_range           | 0.2         |\n",
      "|    entropy_loss         | -1.59       |\n",
      "|    explained_variance   | 0.636       |\n",
      "|    learning_rate        | 0.0003      |\n",
      "|    loss                 | 3.73        |\n",
      "|    n_updates            | 120         |\n",
      "|    policy_gradient_loss | -0.00407    |\n",
      "|    value_loss           | 25.3        |\n",
      "-----------------------------------------\n",
      "Saving video to c:\\Users\\User\\ReinforcementLearning_2025\\ReinforcementLearning_2025\\Atari_Game_Extra\\videos\\rl-video-step-26026-to-step-27026.mp4\n",
      "MoviePy - Building video c:\\Users\\User\\ReinforcementLearning_2025\\ReinforcementLearning_2025\\Atari_Game_Extra\\videos\\rl-video-step-26026-to-step-27026.mp4.\n",
      "MoviePy - Writing video c:\\Users\\User\\ReinforcementLearning_2025\\ReinforcementLearning_2025\\Atari_Game_Extra\\videos\\rl-video-step-26026-to-step-27026.mp4\n",
      "\n"
     ]
    },
    {
     "name": "stderr",
     "output_type": "stream",
     "text": [
      "                                                                          \r"
     ]
    },
    {
     "name": "stdout",
     "output_type": "stream",
     "text": [
      "MoviePy - Done !\n",
      "MoviePy - video ready c:\\Users\\User\\ReinforcementLearning_2025\\ReinforcementLearning_2025\\Atari_Game_Extra\\videos\\rl-video-step-26026-to-step-27026.mp4\n",
      "Saving video to c:\\Users\\User\\ReinforcementLearning_2025\\ReinforcementLearning_2025\\Atari_Game_Extra\\videos\\rl-video-step-27027-to-step-28027.mp4\n",
      "MoviePy - Building video c:\\Users\\User\\ReinforcementLearning_2025\\ReinforcementLearning_2025\\Atari_Game_Extra\\videos\\rl-video-step-27027-to-step-28027.mp4.\n",
      "MoviePy - Writing video c:\\Users\\User\\ReinforcementLearning_2025\\ReinforcementLearning_2025\\Atari_Game_Extra\\videos\\rl-video-step-27027-to-step-28027.mp4\n",
      "\n"
     ]
    },
    {
     "name": "stderr",
     "output_type": "stream",
     "text": [
      "                                                                          \r"
     ]
    },
    {
     "name": "stdout",
     "output_type": "stream",
     "text": [
      "MoviePy - Done !\n",
      "MoviePy - video ready c:\\Users\\User\\ReinforcementLearning_2025\\ReinforcementLearning_2025\\Atari_Game_Extra\\videos\\rl-video-step-27027-to-step-28027.mp4\n",
      "-----------------------------------------\n",
      "| rollout/                |             |\n",
      "|    ep_len_mean          | 2.65e+03    |\n",
      "|    ep_rew_mean          | 305         |\n",
      "| time/                   |             |\n",
      "|    fps                  | 40          |\n",
      "|    iterations           | 14          |\n",
      "|    time_elapsed         | 710         |\n",
      "|    total_timesteps      | 28672       |\n",
      "| train/                  |             |\n",
      "|    approx_kl            | 0.057035327 |\n",
      "|    clip_fraction        | 0.44        |\n",
      "|    clip_range           | 0.2         |\n",
      "|    entropy_loss         | -1.6        |\n",
      "|    explained_variance   | 0.662       |\n",
      "|    learning_rate        | 0.0003      |\n",
      "|    loss                 | 2.18        |\n",
      "|    n_updates            | 130         |\n",
      "|    policy_gradient_loss | -0.00473    |\n",
      "|    value_loss           | 20.8        |\n",
      "-----------------------------------------\n",
      "Saving video to c:\\Users\\User\\ReinforcementLearning_2025\\ReinforcementLearning_2025\\Atari_Game_Extra\\videos\\rl-video-step-28028-to-step-29028.mp4\n",
      "MoviePy - Building video c:\\Users\\User\\ReinforcementLearning_2025\\ReinforcementLearning_2025\\Atari_Game_Extra\\videos\\rl-video-step-28028-to-step-29028.mp4.\n",
      "MoviePy - Writing video c:\\Users\\User\\ReinforcementLearning_2025\\ReinforcementLearning_2025\\Atari_Game_Extra\\videos\\rl-video-step-28028-to-step-29028.mp4\n",
      "\n"
     ]
    },
    {
     "name": "stderr",
     "output_type": "stream",
     "text": [
      "                                                                          \r"
     ]
    },
    {
     "name": "stdout",
     "output_type": "stream",
     "text": [
      "MoviePy - Done !\n",
      "MoviePy - video ready c:\\Users\\User\\ReinforcementLearning_2025\\ReinforcementLearning_2025\\Atari_Game_Extra\\videos\\rl-video-step-28028-to-step-29028.mp4\n",
      "Saving video to c:\\Users\\User\\ReinforcementLearning_2025\\ReinforcementLearning_2025\\Atari_Game_Extra\\videos\\rl-video-step-29029-to-step-30029.mp4\n",
      "MoviePy - Building video c:\\Users\\User\\ReinforcementLearning_2025\\ReinforcementLearning_2025\\Atari_Game_Extra\\videos\\rl-video-step-29029-to-step-30029.mp4.\n",
      "MoviePy - Writing video c:\\Users\\User\\ReinforcementLearning_2025\\ReinforcementLearning_2025\\Atari_Game_Extra\\videos\\rl-video-step-29029-to-step-30029.mp4\n",
      "\n"
     ]
    },
    {
     "name": "stderr",
     "output_type": "stream",
     "text": [
      "                                                                          \r"
     ]
    },
    {
     "name": "stdout",
     "output_type": "stream",
     "text": [
      "MoviePy - Done !\n",
      "MoviePy - video ready c:\\Users\\User\\ReinforcementLearning_2025\\ReinforcementLearning_2025\\Atari_Game_Extra\\videos\\rl-video-step-29029-to-step-30029.mp4\n",
      "----------------------------------------\n",
      "| rollout/                |            |\n",
      "|    ep_len_mean          | 2.63e+03   |\n",
      "|    ep_rew_mean          | 307        |\n",
      "| time/                   |            |\n",
      "|    fps                  | 40         |\n",
      "|    iterations           | 15         |\n",
      "|    time_elapsed         | 761        |\n",
      "|    total_timesteps      | 30720      |\n",
      "| train/                  |            |\n",
      "|    approx_kl            | 0.05954682 |\n",
      "|    clip_fraction        | 0.454      |\n",
      "|    clip_range           | 0.2        |\n",
      "|    entropy_loss         | -1.54      |\n",
      "|    explained_variance   | 0.686      |\n",
      "|    learning_rate        | 0.0003     |\n",
      "|    loss                 | 3.56       |\n",
      "|    n_updates            | 140        |\n",
      "|    policy_gradient_loss | -0.00194   |\n",
      "|    value_loss           | 26         |\n",
      "----------------------------------------\n",
      "Saving video to c:\\Users\\User\\ReinforcementLearning_2025\\ReinforcementLearning_2025\\Atari_Game_Extra\\videos\\rl-video-step-30030-to-step-31030.mp4\n",
      "MoviePy - Building video c:\\Users\\User\\ReinforcementLearning_2025\\ReinforcementLearning_2025\\Atari_Game_Extra\\videos\\rl-video-step-30030-to-step-31030.mp4.\n",
      "MoviePy - Writing video c:\\Users\\User\\ReinforcementLearning_2025\\ReinforcementLearning_2025\\Atari_Game_Extra\\videos\\rl-video-step-30030-to-step-31030.mp4\n",
      "\n"
     ]
    },
    {
     "name": "stderr",
     "output_type": "stream",
     "text": [
      "                                                                          \r"
     ]
    },
    {
     "name": "stdout",
     "output_type": "stream",
     "text": [
      "MoviePy - Done !\n",
      "MoviePy - video ready c:\\Users\\User\\ReinforcementLearning_2025\\ReinforcementLearning_2025\\Atari_Game_Extra\\videos\\rl-video-step-30030-to-step-31030.mp4\n",
      "Saving video to c:\\Users\\User\\ReinforcementLearning_2025\\ReinforcementLearning_2025\\Atari_Game_Extra\\videos\\rl-video-step-31031-to-step-32031.mp4\n",
      "MoviePy - Building video c:\\Users\\User\\ReinforcementLearning_2025\\ReinforcementLearning_2025\\Atari_Game_Extra\\videos\\rl-video-step-31031-to-step-32031.mp4.\n",
      "MoviePy - Writing video c:\\Users\\User\\ReinforcementLearning_2025\\ReinforcementLearning_2025\\Atari_Game_Extra\\videos\\rl-video-step-31031-to-step-32031.mp4\n",
      "\n"
     ]
    },
    {
     "name": "stderr",
     "output_type": "stream",
     "text": [
      "                                                                          \r"
     ]
    },
    {
     "name": "stdout",
     "output_type": "stream",
     "text": [
      "MoviePy - Done !\n",
      "MoviePy - video ready c:\\Users\\User\\ReinforcementLearning_2025\\ReinforcementLearning_2025\\Atari_Game_Extra\\videos\\rl-video-step-31031-to-step-32031.mp4\n",
      "----------------------------------------\n",
      "| rollout/                |            |\n",
      "|    ep_len_mean          | 2.63e+03   |\n",
      "|    ep_rew_mean          | 310        |\n",
      "| time/                   |            |\n",
      "|    fps                  | 40         |\n",
      "|    iterations           | 16         |\n",
      "|    time_elapsed         | 810        |\n",
      "|    total_timesteps      | 32768      |\n",
      "| train/                  |            |\n",
      "|    approx_kl            | 0.07182172 |\n",
      "|    clip_fraction        | 0.476      |\n",
      "|    clip_range           | 0.2        |\n",
      "|    entropy_loss         | -1.54      |\n",
      "|    explained_variance   | 0.634      |\n",
      "|    learning_rate        | 0.0003     |\n",
      "|    loss                 | 4.22       |\n",
      "|    n_updates            | 150        |\n",
      "|    policy_gradient_loss | 0.00626    |\n",
      "|    value_loss           | 28.6       |\n",
      "----------------------------------------\n",
      "Saving video to c:\\Users\\User\\ReinforcementLearning_2025\\ReinforcementLearning_2025\\Atari_Game_Extra\\videos\\rl-video-step-32032-to-step-33032.mp4\n",
      "MoviePy - Building video c:\\Users\\User\\ReinforcementLearning_2025\\ReinforcementLearning_2025\\Atari_Game_Extra\\videos\\rl-video-step-32032-to-step-33032.mp4.\n",
      "MoviePy - Writing video c:\\Users\\User\\ReinforcementLearning_2025\\ReinforcementLearning_2025\\Atari_Game_Extra\\videos\\rl-video-step-32032-to-step-33032.mp4\n",
      "\n"
     ]
    },
    {
     "name": "stderr",
     "output_type": "stream",
     "text": [
      "                                                                          \r"
     ]
    },
    {
     "name": "stdout",
     "output_type": "stream",
     "text": [
      "MoviePy - Done !\n",
      "MoviePy - video ready c:\\Users\\User\\ReinforcementLearning_2025\\ReinforcementLearning_2025\\Atari_Game_Extra\\videos\\rl-video-step-32032-to-step-33032.mp4\n",
      "Saving video to c:\\Users\\User\\ReinforcementLearning_2025\\ReinforcementLearning_2025\\Atari_Game_Extra\\videos\\rl-video-step-33033-to-step-34033.mp4\n",
      "MoviePy - Building video c:\\Users\\User\\ReinforcementLearning_2025\\ReinforcementLearning_2025\\Atari_Game_Extra\\videos\\rl-video-step-33033-to-step-34033.mp4.\n",
      "MoviePy - Writing video c:\\Users\\User\\ReinforcementLearning_2025\\ReinforcementLearning_2025\\Atari_Game_Extra\\videos\\rl-video-step-33033-to-step-34033.mp4\n",
      "\n"
     ]
    },
    {
     "name": "stderr",
     "output_type": "stream",
     "text": [
      "                                                                          \r"
     ]
    },
    {
     "name": "stdout",
     "output_type": "stream",
     "text": [
      "MoviePy - Done !\n",
      "MoviePy - video ready c:\\Users\\User\\ReinforcementLearning_2025\\ReinforcementLearning_2025\\Atari_Game_Extra\\videos\\rl-video-step-33033-to-step-34033.mp4\n",
      "----------------------------------------\n",
      "| rollout/                |            |\n",
      "|    ep_len_mean          | 2.6e+03    |\n",
      "|    ep_rew_mean          | 307        |\n",
      "| time/                   |            |\n",
      "|    fps                  | 40         |\n",
      "|    iterations           | 17         |\n",
      "|    time_elapsed         | 860        |\n",
      "|    total_timesteps      | 34816      |\n",
      "| train/                  |            |\n",
      "|    approx_kl            | 0.06636204 |\n",
      "|    clip_fraction        | 0.486      |\n",
      "|    clip_range           | 0.2        |\n",
      "|    entropy_loss         | -1.49      |\n",
      "|    explained_variance   | 0.69       |\n",
      "|    learning_rate        | 0.0003     |\n",
      "|    loss                 | 2.74       |\n",
      "|    n_updates            | 160        |\n",
      "|    policy_gradient_loss | -0.00197   |\n",
      "|    value_loss           | 18.9       |\n",
      "----------------------------------------\n",
      "Saving video to c:\\Users\\User\\ReinforcementLearning_2025\\ReinforcementLearning_2025\\Atari_Game_Extra\\videos\\rl-video-step-34034-to-step-35034.mp4\n",
      "MoviePy - Building video c:\\Users\\User\\ReinforcementLearning_2025\\ReinforcementLearning_2025\\Atari_Game_Extra\\videos\\rl-video-step-34034-to-step-35034.mp4.\n",
      "MoviePy - Writing video c:\\Users\\User\\ReinforcementLearning_2025\\ReinforcementLearning_2025\\Atari_Game_Extra\\videos\\rl-video-step-34034-to-step-35034.mp4\n",
      "\n"
     ]
    },
    {
     "name": "stderr",
     "output_type": "stream",
     "text": [
      "                                                                          \r"
     ]
    },
    {
     "name": "stdout",
     "output_type": "stream",
     "text": [
      "MoviePy - Done !\n",
      "MoviePy - video ready c:\\Users\\User\\ReinforcementLearning_2025\\ReinforcementLearning_2025\\Atari_Game_Extra\\videos\\rl-video-step-34034-to-step-35034.mp4\n",
      "Saving video to c:\\Users\\User\\ReinforcementLearning_2025\\ReinforcementLearning_2025\\Atari_Game_Extra\\videos\\rl-video-step-35035-to-step-36035.mp4\n",
      "MoviePy - Building video c:\\Users\\User\\ReinforcementLearning_2025\\ReinforcementLearning_2025\\Atari_Game_Extra\\videos\\rl-video-step-35035-to-step-36035.mp4.\n",
      "MoviePy - Writing video c:\\Users\\User\\ReinforcementLearning_2025\\ReinforcementLearning_2025\\Atari_Game_Extra\\videos\\rl-video-step-35035-to-step-36035.mp4\n",
      "\n"
     ]
    },
    {
     "name": "stderr",
     "output_type": "stream",
     "text": [
      "                                                                          \r"
     ]
    },
    {
     "name": "stdout",
     "output_type": "stream",
     "text": [
      "MoviePy - Done !\n",
      "MoviePy - video ready c:\\Users\\User\\ReinforcementLearning_2025\\ReinforcementLearning_2025\\Atari_Game_Extra\\videos\\rl-video-step-35035-to-step-36035.mp4\n",
      "---------------------------------------\n",
      "| rollout/                |           |\n",
      "|    ep_len_mean          | 2.63e+03  |\n",
      "|    ep_rew_mean          | 307       |\n",
      "| time/                   |           |\n",
      "|    fps                  | 40        |\n",
      "|    iterations           | 18        |\n",
      "|    time_elapsed         | 909       |\n",
      "|    total_timesteps      | 36864     |\n",
      "| train/                  |           |\n",
      "|    approx_kl            | 0.0803614 |\n",
      "|    clip_fraction        | 0.45      |\n",
      "|    clip_range           | 0.2       |\n",
      "|    entropy_loss         | -1.51     |\n",
      "|    explained_variance   | 0.713     |\n",
      "|    learning_rate        | 0.0003    |\n",
      "|    loss                 | 4.37      |\n",
      "|    n_updates            | 170       |\n",
      "|    policy_gradient_loss | -0.00463  |\n",
      "|    value_loss           | 23.1      |\n",
      "---------------------------------------\n",
      "Saving video to c:\\Users\\User\\ReinforcementLearning_2025\\ReinforcementLearning_2025\\Atari_Game_Extra\\videos\\rl-video-step-36036-to-step-37036.mp4\n",
      "MoviePy - Building video c:\\Users\\User\\ReinforcementLearning_2025\\ReinforcementLearning_2025\\Atari_Game_Extra\\videos\\rl-video-step-36036-to-step-37036.mp4.\n",
      "MoviePy - Writing video c:\\Users\\User\\ReinforcementLearning_2025\\ReinforcementLearning_2025\\Atari_Game_Extra\\videos\\rl-video-step-36036-to-step-37036.mp4\n",
      "\n"
     ]
    },
    {
     "name": "stderr",
     "output_type": "stream",
     "text": [
      "                                                                          \r"
     ]
    },
    {
     "name": "stdout",
     "output_type": "stream",
     "text": [
      "MoviePy - Done !\n",
      "MoviePy - video ready c:\\Users\\User\\ReinforcementLearning_2025\\ReinforcementLearning_2025\\Atari_Game_Extra\\videos\\rl-video-step-36036-to-step-37036.mp4\n",
      "Saving video to c:\\Users\\User\\ReinforcementLearning_2025\\ReinforcementLearning_2025\\Atari_Game_Extra\\videos\\rl-video-step-37037-to-step-38037.mp4\n",
      "MoviePy - Building video c:\\Users\\User\\ReinforcementLearning_2025\\ReinforcementLearning_2025\\Atari_Game_Extra\\videos\\rl-video-step-37037-to-step-38037.mp4.\n",
      "MoviePy - Writing video c:\\Users\\User\\ReinforcementLearning_2025\\ReinforcementLearning_2025\\Atari_Game_Extra\\videos\\rl-video-step-37037-to-step-38037.mp4\n",
      "\n"
     ]
    },
    {
     "name": "stderr",
     "output_type": "stream",
     "text": [
      "                                                                          \r"
     ]
    },
    {
     "name": "stdout",
     "output_type": "stream",
     "text": [
      "MoviePy - Done !\n",
      "MoviePy - video ready c:\\Users\\User\\ReinforcementLearning_2025\\ReinforcementLearning_2025\\Atari_Game_Extra\\videos\\rl-video-step-37037-to-step-38037.mp4\n",
      "----------------------------------------\n",
      "| rollout/                |            |\n",
      "|    ep_len_mean          | 2.65e+03   |\n",
      "|    ep_rew_mean          | 305        |\n",
      "| time/                   |            |\n",
      "|    fps                  | 40         |\n",
      "|    iterations           | 19         |\n",
      "|    time_elapsed         | 959        |\n",
      "|    total_timesteps      | 38912      |\n",
      "| train/                  |            |\n",
      "|    approx_kl            | 0.08267553 |\n",
      "|    clip_fraction        | 0.485      |\n",
      "|    clip_range           | 0.2        |\n",
      "|    entropy_loss         | -1.52      |\n",
      "|    explained_variance   | 0.745      |\n",
      "|    learning_rate        | 0.0003     |\n",
      "|    loss                 | 1.49       |\n",
      "|    n_updates            | 180        |\n",
      "|    policy_gradient_loss | 0.00389    |\n",
      "|    value_loss           | 17.9       |\n",
      "----------------------------------------\n",
      "Saving video to c:\\Users\\User\\ReinforcementLearning_2025\\ReinforcementLearning_2025\\Atari_Game_Extra\\videos\\rl-video-step-38038-to-step-39038.mp4\n",
      "MoviePy - Building video c:\\Users\\User\\ReinforcementLearning_2025\\ReinforcementLearning_2025\\Atari_Game_Extra\\videos\\rl-video-step-38038-to-step-39038.mp4.\n",
      "MoviePy - Writing video c:\\Users\\User\\ReinforcementLearning_2025\\ReinforcementLearning_2025\\Atari_Game_Extra\\videos\\rl-video-step-38038-to-step-39038.mp4\n",
      "\n"
     ]
    },
    {
     "name": "stderr",
     "output_type": "stream",
     "text": [
      "                                                                          \r"
     ]
    },
    {
     "name": "stdout",
     "output_type": "stream",
     "text": [
      "MoviePy - Done !\n",
      "MoviePy - video ready c:\\Users\\User\\ReinforcementLearning_2025\\ReinforcementLearning_2025\\Atari_Game_Extra\\videos\\rl-video-step-38038-to-step-39038.mp4\n",
      "Saving video to c:\\Users\\User\\ReinforcementLearning_2025\\ReinforcementLearning_2025\\Atari_Game_Extra\\videos\\rl-video-step-39039-to-step-40039.mp4\n",
      "MoviePy - Building video c:\\Users\\User\\ReinforcementLearning_2025\\ReinforcementLearning_2025\\Atari_Game_Extra\\videos\\rl-video-step-39039-to-step-40039.mp4.\n",
      "MoviePy - Writing video c:\\Users\\User\\ReinforcementLearning_2025\\ReinforcementLearning_2025\\Atari_Game_Extra\\videos\\rl-video-step-39039-to-step-40039.mp4\n",
      "\n"
     ]
    },
    {
     "name": "stderr",
     "output_type": "stream",
     "text": [
      "                                                                          \r"
     ]
    },
    {
     "name": "stdout",
     "output_type": "stream",
     "text": [
      "MoviePy - Done !\n",
      "MoviePy - video ready c:\\Users\\User\\ReinforcementLearning_2025\\ReinforcementLearning_2025\\Atari_Game_Extra\\videos\\rl-video-step-39039-to-step-40039.mp4\n",
      "---------------------------------------\n",
      "| rollout/                |           |\n",
      "|    ep_len_mean          | 2.66e+03  |\n",
      "|    ep_rew_mean          | 304       |\n",
      "| time/                   |           |\n",
      "|    fps                  | 40        |\n",
      "|    iterations           | 20        |\n",
      "|    time_elapsed         | 1019      |\n",
      "|    total_timesteps      | 40960     |\n",
      "| train/                  |           |\n",
      "|    approx_kl            | 0.0689684 |\n",
      "|    clip_fraction        | 0.432     |\n",
      "|    clip_range           | 0.2       |\n",
      "|    entropy_loss         | -1.49     |\n",
      "|    explained_variance   | 0.76      |\n",
      "|    learning_rate        | 0.0003    |\n",
      "|    loss                 | 2.41      |\n",
      "|    n_updates            | 190       |\n",
      "|    policy_gradient_loss | 0.000216  |\n",
      "|    value_loss           | 13        |\n",
      "---------------------------------------\n",
      "Saving video to c:\\Users\\User\\ReinforcementLearning_2025\\ReinforcementLearning_2025\\Atari_Game_Extra\\videos\\rl-video-step-40040-to-step-41040.mp4\n",
      "MoviePy - Building video c:\\Users\\User\\ReinforcementLearning_2025\\ReinforcementLearning_2025\\Atari_Game_Extra\\videos\\rl-video-step-40040-to-step-41040.mp4.\n",
      "MoviePy - Writing video c:\\Users\\User\\ReinforcementLearning_2025\\ReinforcementLearning_2025\\Atari_Game_Extra\\videos\\rl-video-step-40040-to-step-41040.mp4\n",
      "\n"
     ]
    },
    {
     "name": "stderr",
     "output_type": "stream",
     "text": [
      "                                                                          \r"
     ]
    },
    {
     "name": "stdout",
     "output_type": "stream",
     "text": [
      "MoviePy - Done !\n",
      "MoviePy - video ready c:\\Users\\User\\ReinforcementLearning_2025\\ReinforcementLearning_2025\\Atari_Game_Extra\\videos\\rl-video-step-40040-to-step-41040.mp4\n",
      "Saving video to c:\\Users\\User\\ReinforcementLearning_2025\\ReinforcementLearning_2025\\Atari_Game_Extra\\videos\\rl-video-step-41041-to-step-42041.mp4\n",
      "MoviePy - Building video c:\\Users\\User\\ReinforcementLearning_2025\\ReinforcementLearning_2025\\Atari_Game_Extra\\videos\\rl-video-step-41041-to-step-42041.mp4.\n",
      "MoviePy - Writing video c:\\Users\\User\\ReinforcementLearning_2025\\ReinforcementLearning_2025\\Atari_Game_Extra\\videos\\rl-video-step-41041-to-step-42041.mp4\n",
      "\n"
     ]
    },
    {
     "name": "stderr",
     "output_type": "stream",
     "text": [
      "                                                                          \r"
     ]
    },
    {
     "name": "stdout",
     "output_type": "stream",
     "text": [
      "MoviePy - Done !\n",
      "MoviePy - video ready c:\\Users\\User\\ReinforcementLearning_2025\\ReinforcementLearning_2025\\Atari_Game_Extra\\videos\\rl-video-step-41041-to-step-42041.mp4\n",
      "----------------------------------------\n",
      "| rollout/                |            |\n",
      "|    ep_len_mean          | 2.72e+03   |\n",
      "|    ep_rew_mean          | 309        |\n",
      "| time/                   |            |\n",
      "|    fps                  | 39         |\n",
      "|    iterations           | 21         |\n",
      "|    time_elapsed         | 1080       |\n",
      "|    total_timesteps      | 43008      |\n",
      "| train/                  |            |\n",
      "|    approx_kl            | 0.06940538 |\n",
      "|    clip_fraction        | 0.434      |\n",
      "|    clip_range           | 0.2        |\n",
      "|    entropy_loss         | -1.42      |\n",
      "|    explained_variance   | 0.646      |\n",
      "|    learning_rate        | 0.0003     |\n",
      "|    loss                 | 1.95       |\n",
      "|    n_updates            | 200        |\n",
      "|    policy_gradient_loss | -0.00563   |\n",
      "|    value_loss           | 14         |\n",
      "----------------------------------------\n",
      "Saving video to c:\\Users\\User\\ReinforcementLearning_2025\\ReinforcementLearning_2025\\Atari_Game_Extra\\videos\\rl-video-step-42042-to-step-43042.mp4\n",
      "MoviePy - Building video c:\\Users\\User\\ReinforcementLearning_2025\\ReinforcementLearning_2025\\Atari_Game_Extra\\videos\\rl-video-step-42042-to-step-43042.mp4.\n",
      "MoviePy - Writing video c:\\Users\\User\\ReinforcementLearning_2025\\ReinforcementLearning_2025\\Atari_Game_Extra\\videos\\rl-video-step-42042-to-step-43042.mp4\n",
      "\n"
     ]
    },
    {
     "name": "stderr",
     "output_type": "stream",
     "text": [
      "                                                                          \r"
     ]
    },
    {
     "name": "stdout",
     "output_type": "stream",
     "text": [
      "MoviePy - Done !\n",
      "MoviePy - video ready c:\\Users\\User\\ReinforcementLearning_2025\\ReinforcementLearning_2025\\Atari_Game_Extra\\videos\\rl-video-step-42042-to-step-43042.mp4\n",
      "Saving video to c:\\Users\\User\\ReinforcementLearning_2025\\ReinforcementLearning_2025\\Atari_Game_Extra\\videos\\rl-video-step-43043-to-step-44043.mp4\n",
      "MoviePy - Building video c:\\Users\\User\\ReinforcementLearning_2025\\ReinforcementLearning_2025\\Atari_Game_Extra\\videos\\rl-video-step-43043-to-step-44043.mp4.\n",
      "MoviePy - Writing video c:\\Users\\User\\ReinforcementLearning_2025\\ReinforcementLearning_2025\\Atari_Game_Extra\\videos\\rl-video-step-43043-to-step-44043.mp4\n",
      "\n"
     ]
    },
    {
     "name": "stderr",
     "output_type": "stream",
     "text": [
      "                                                                          \r"
     ]
    },
    {
     "name": "stdout",
     "output_type": "stream",
     "text": [
      "MoviePy - Done !\n",
      "MoviePy - video ready c:\\Users\\User\\ReinforcementLearning_2025\\ReinforcementLearning_2025\\Atari_Game_Extra\\videos\\rl-video-step-43043-to-step-44043.mp4\n",
      "Saving video to c:\\Users\\User\\ReinforcementLearning_2025\\ReinforcementLearning_2025\\Atari_Game_Extra\\videos\\rl-video-step-44044-to-step-45044.mp4\n",
      "MoviePy - Building video c:\\Users\\User\\ReinforcementLearning_2025\\ReinforcementLearning_2025\\Atari_Game_Extra\\videos\\rl-video-step-44044-to-step-45044.mp4.\n",
      "MoviePy - Writing video c:\\Users\\User\\ReinforcementLearning_2025\\ReinforcementLearning_2025\\Atari_Game_Extra\\videos\\rl-video-step-44044-to-step-45044.mp4\n",
      "\n"
     ]
    },
    {
     "name": "stderr",
     "output_type": "stream",
     "text": [
      "                                                                          \r"
     ]
    },
    {
     "name": "stdout",
     "output_type": "stream",
     "text": [
      "MoviePy - Done !\n",
      "MoviePy - video ready c:\\Users\\User\\ReinforcementLearning_2025\\ReinforcementLearning_2025\\Atari_Game_Extra\\videos\\rl-video-step-44044-to-step-45044.mp4\n",
      "----------------------------------------\n",
      "| rollout/                |            |\n",
      "|    ep_len_mean          | 2.73e+03   |\n",
      "|    ep_rew_mean          | 308        |\n",
      "| time/                   |            |\n",
      "|    fps                  | 39         |\n",
      "|    iterations           | 22         |\n",
      "|    time_elapsed         | 1147       |\n",
      "|    total_timesteps      | 45056      |\n",
      "| train/                  |            |\n",
      "|    approx_kl            | 0.07148533 |\n",
      "|    clip_fraction        | 0.498      |\n",
      "|    clip_range           | 0.2        |\n",
      "|    entropy_loss         | -1.48      |\n",
      "|    explained_variance   | 0.634      |\n",
      "|    learning_rate        | 0.0003     |\n",
      "|    loss                 | 1.59       |\n",
      "|    n_updates            | 210        |\n",
      "|    policy_gradient_loss | 0.00163    |\n",
      "|    value_loss           | 14.8       |\n",
      "----------------------------------------\n",
      "Saving video to c:\\Users\\User\\ReinforcementLearning_2025\\ReinforcementLearning_2025\\Atari_Game_Extra\\videos\\rl-video-step-45045-to-step-46045.mp4\n",
      "MoviePy - Building video c:\\Users\\User\\ReinforcementLearning_2025\\ReinforcementLearning_2025\\Atari_Game_Extra\\videos\\rl-video-step-45045-to-step-46045.mp4.\n",
      "MoviePy - Writing video c:\\Users\\User\\ReinforcementLearning_2025\\ReinforcementLearning_2025\\Atari_Game_Extra\\videos\\rl-video-step-45045-to-step-46045.mp4\n",
      "\n"
     ]
    },
    {
     "name": "stderr",
     "output_type": "stream",
     "text": [
      "                                                                          \r"
     ]
    },
    {
     "name": "stdout",
     "output_type": "stream",
     "text": [
      "MoviePy - Done !\n",
      "MoviePy - video ready c:\\Users\\User\\ReinforcementLearning_2025\\ReinforcementLearning_2025\\Atari_Game_Extra\\videos\\rl-video-step-45045-to-step-46045.mp4\n",
      "Saving video to c:\\Users\\User\\ReinforcementLearning_2025\\ReinforcementLearning_2025\\Atari_Game_Extra\\videos\\rl-video-step-46046-to-step-47046.mp4\n",
      "MoviePy - Building video c:\\Users\\User\\ReinforcementLearning_2025\\ReinforcementLearning_2025\\Atari_Game_Extra\\videos\\rl-video-step-46046-to-step-47046.mp4.\n",
      "MoviePy - Writing video c:\\Users\\User\\ReinforcementLearning_2025\\ReinforcementLearning_2025\\Atari_Game_Extra\\videos\\rl-video-step-46046-to-step-47046.mp4\n",
      "\n"
     ]
    },
    {
     "name": "stderr",
     "output_type": "stream",
     "text": [
      "                                                                          \r"
     ]
    },
    {
     "name": "stdout",
     "output_type": "stream",
     "text": [
      "MoviePy - Done !\n",
      "MoviePy - video ready c:\\Users\\User\\ReinforcementLearning_2025\\ReinforcementLearning_2025\\Atari_Game_Extra\\videos\\rl-video-step-46046-to-step-47046.mp4\n",
      "----------------------------------------\n",
      "| rollout/                |            |\n",
      "|    ep_len_mean          | 2.73e+03   |\n",
      "|    ep_rew_mean          | 308        |\n",
      "| time/                   |            |\n",
      "|    fps                  | 39         |\n",
      "|    iterations           | 23         |\n",
      "|    time_elapsed         | 1199       |\n",
      "|    total_timesteps      | 47104      |\n",
      "| train/                  |            |\n",
      "|    approx_kl            | 0.06809932 |\n",
      "|    clip_fraction        | 0.446      |\n",
      "|    clip_range           | 0.2        |\n",
      "|    entropy_loss         | -1.48      |\n",
      "|    explained_variance   | 0.8        |\n",
      "|    learning_rate        | 0.0003     |\n",
      "|    loss                 | 2.16       |\n",
      "|    n_updates            | 220        |\n",
      "|    policy_gradient_loss | -0.00499   |\n",
      "|    value_loss           | 15.8       |\n",
      "----------------------------------------\n",
      "Saving video to c:\\Users\\User\\ReinforcementLearning_2025\\ReinforcementLearning_2025\\Atari_Game_Extra\\videos\\rl-video-step-47047-to-step-48047.mp4\n",
      "MoviePy - Building video c:\\Users\\User\\ReinforcementLearning_2025\\ReinforcementLearning_2025\\Atari_Game_Extra\\videos\\rl-video-step-47047-to-step-48047.mp4.\n",
      "MoviePy - Writing video c:\\Users\\User\\ReinforcementLearning_2025\\ReinforcementLearning_2025\\Atari_Game_Extra\\videos\\rl-video-step-47047-to-step-48047.mp4\n",
      "\n"
     ]
    },
    {
     "name": "stderr",
     "output_type": "stream",
     "text": [
      "                                                                          \r"
     ]
    },
    {
     "name": "stdout",
     "output_type": "stream",
     "text": [
      "MoviePy - Done !\n",
      "MoviePy - video ready c:\\Users\\User\\ReinforcementLearning_2025\\ReinforcementLearning_2025\\Atari_Game_Extra\\videos\\rl-video-step-47047-to-step-48047.mp4\n",
      "Saving video to c:\\Users\\User\\ReinforcementLearning_2025\\ReinforcementLearning_2025\\Atari_Game_Extra\\videos\\rl-video-step-48048-to-step-49048.mp4\n",
      "MoviePy - Building video c:\\Users\\User\\ReinforcementLearning_2025\\ReinforcementLearning_2025\\Atari_Game_Extra\\videos\\rl-video-step-48048-to-step-49048.mp4.\n",
      "MoviePy - Writing video c:\\Users\\User\\ReinforcementLearning_2025\\ReinforcementLearning_2025\\Atari_Game_Extra\\videos\\rl-video-step-48048-to-step-49048.mp4\n",
      "\n"
     ]
    },
    {
     "name": "stderr",
     "output_type": "stream",
     "text": [
      "                                                                          \r"
     ]
    },
    {
     "name": "stdout",
     "output_type": "stream",
     "text": [
      "MoviePy - Done !\n",
      "MoviePy - video ready c:\\Users\\User\\ReinforcementLearning_2025\\ReinforcementLearning_2025\\Atari_Game_Extra\\videos\\rl-video-step-48048-to-step-49048.mp4\n",
      "----------------------------------------\n",
      "| rollout/                |            |\n",
      "|    ep_len_mean          | 2.75e+03   |\n",
      "|    ep_rew_mean          | 309        |\n",
      "| time/                   |            |\n",
      "|    fps                  | 39         |\n",
      "|    iterations           | 24         |\n",
      "|    time_elapsed         | 1250       |\n",
      "|    total_timesteps      | 49152      |\n",
      "| train/                  |            |\n",
      "|    approx_kl            | 0.05856679 |\n",
      "|    clip_fraction        | 0.455      |\n",
      "|    clip_range           | 0.2        |\n",
      "|    entropy_loss         | -1.47      |\n",
      "|    explained_variance   | 0.71       |\n",
      "|    learning_rate        | 0.0003     |\n",
      "|    loss                 | 2.72       |\n",
      "|    n_updates            | 230        |\n",
      "|    policy_gradient_loss | -0.0101    |\n",
      "|    value_loss           | 13.8       |\n",
      "----------------------------------------\n",
      "Saving video to c:\\Users\\User\\ReinforcementLearning_2025\\ReinforcementLearning_2025\\Atari_Game_Extra\\videos\\rl-video-step-49049-to-step-50049.mp4\n",
      "MoviePy - Building video c:\\Users\\User\\ReinforcementLearning_2025\\ReinforcementLearning_2025\\Atari_Game_Extra\\videos\\rl-video-step-49049-to-step-50049.mp4.\n",
      "MoviePy - Writing video c:\\Users\\User\\ReinforcementLearning_2025\\ReinforcementLearning_2025\\Atari_Game_Extra\\videos\\rl-video-step-49049-to-step-50049.mp4\n",
      "\n"
     ]
    },
    {
     "name": "stderr",
     "output_type": "stream",
     "text": [
      "                                                                          \r"
     ]
    },
    {
     "name": "stdout",
     "output_type": "stream",
     "text": [
      "MoviePy - Done !\n",
      "MoviePy - video ready c:\\Users\\User\\ReinforcementLearning_2025\\ReinforcementLearning_2025\\Atari_Game_Extra\\videos\\rl-video-step-49049-to-step-50049.mp4\n",
      "Saving video to c:\\Users\\User\\ReinforcementLearning_2025\\ReinforcementLearning_2025\\Atari_Game_Extra\\videos\\rl-video-step-50050-to-step-51050.mp4\n",
      "MoviePy - Building video c:\\Users\\User\\ReinforcementLearning_2025\\ReinforcementLearning_2025\\Atari_Game_Extra\\videos\\rl-video-step-50050-to-step-51050.mp4.\n",
      "MoviePy - Writing video c:\\Users\\User\\ReinforcementLearning_2025\\ReinforcementLearning_2025\\Atari_Game_Extra\\videos\\rl-video-step-50050-to-step-51050.mp4\n",
      "\n"
     ]
    },
    {
     "name": "stderr",
     "output_type": "stream",
     "text": [
      "                                                                          \r"
     ]
    },
    {
     "name": "stdout",
     "output_type": "stream",
     "text": [
      "MoviePy - Done !\n",
      "MoviePy - video ready c:\\Users\\User\\ReinforcementLearning_2025\\ReinforcementLearning_2025\\Atari_Game_Extra\\videos\\rl-video-step-50050-to-step-51050.mp4\n",
      "-----------------------------------------\n",
      "| rollout/                |             |\n",
      "|    ep_len_mean          | 2.71e+03    |\n",
      "|    ep_rew_mean          | 309         |\n",
      "| time/                   |             |\n",
      "|    fps                  | 39          |\n",
      "|    iterations           | 25          |\n",
      "|    time_elapsed         | 1303        |\n",
      "|    total_timesteps      | 51200       |\n",
      "| train/                  |             |\n",
      "|    approx_kl            | 0.067214966 |\n",
      "|    clip_fraction        | 0.454       |\n",
      "|    clip_range           | 0.2         |\n",
      "|    entropy_loss         | -1.48       |\n",
      "|    explained_variance   | 0.745       |\n",
      "|    learning_rate        | 0.0003      |\n",
      "|    loss                 | 2.33        |\n",
      "|    n_updates            | 240         |\n",
      "|    policy_gradient_loss | -0.00349    |\n",
      "|    value_loss           | 13.5        |\n",
      "-----------------------------------------\n"
     ]
    }
   ],
   "source": [
    "from stable_baselines3.common.callbacks import CheckpointCallback\n",
    "import time\n",
    "\n",
    "# make sure logs folder exists\n",
    "os.makedirs(\"logs\", exist_ok=True)\n",
    "\n",
    "# get a timestamp for unique naming\n",
    "current_time = str(int(time.time()))\n",
    "\n",
    "# define callback to save model every 10000 steps\n",
    "checkpoint_callback = CheckpointCallback(\n",
    "    # save every 10k steps\n",
    "    save_freq=10000,  \n",
    "    save_path=\"logs\",\n",
    "    name_prefix=f\"{current_time}-ppo-assault\"\n",
    ")\n",
    "\n",
    "# initialize the PPO model\n",
    "model = PPO(\"CnnPolicy\", env, verbose=1)\n",
    "\n",
    "# train the model and save checkpoints\n",
    "model.learn(total_timesteps=50000, callback=checkpoint_callback)\n",
    "\n",
    "# (optional) save final model separately\n",
    "model.save(f\"logs/{current_time}-ppo-assault-final.zip\")\n"
   ]
  },
  {
   "cell_type": "code",
   "execution_count": 8,
   "metadata": {},
   "outputs": [
    {
     "data": {
      "image/png": "[encoded data removed]",
      "text/plain": [
       "<Figure size 640x480 with 1 Axes>"
      ]
     },
     "metadata": {},
     "output_type": "display_data"
    },
    {
     "name": "stdout",
     "output_type": "stream",
     "text": [
      "Total reward: [357.]\n",
      "MoviePy - Building video c:\\Users\\User\\ReinforcementLearning_2025\\ReinforcementLearning_2025\\Atari_Game_Extra\\videos\\rl-video-step-51200-to-step-52200.mp4.\n",
      "MoviePy - Writing video c:\\Users\\User\\ReinforcementLearning_2025\\ReinforcementLearning_2025\\Atari_Game_Extra\\videos\\rl-video-step-51200-to-step-52200.mp4\n",
      "\n"
     ]
    },
    {
     "name": "stderr",
     "output_type": "stream",
     "text": [
      "                                                                         "
     ]
    },
    {
     "name": "stdout",
     "output_type": "stream",
     "text": [
      "MoviePy - Done !\n",
      "MoviePy - video ready c:\\Users\\User\\ReinforcementLearning_2025\\ReinforcementLearning_2025\\Atari_Game_Extra\\videos\\rl-video-step-51200-to-step-52200.mp4\n"
     ]
    },
    {
     "name": "stderr",
     "output_type": "stream",
     "text": [
      "\r"
     ]
    }
   ],
   "source": [
    "obs = env.reset()\n",
    "total_reward = 0\n",
    "done = False\n",
    "\n",
    "while not done:\n",
    "    action, _state = model.predict(obs)\n",
    "    obs, reward, done, info = env.step(action)\n",
    "\n",
    "    image = env.render(\"rgb_array\")\n",
    "    clear_output(wait=True)\n",
    "    plt.imshow(image)\n",
    "    plt.axis(\"off\")\n",
    "    plt.show()\n",
    "    total_reward += reward\n",
    "\n",
    "print(\"Total reward:\", total_reward)\n",
    "env.close()"
   ]
  },
  {
   "cell_type": "markdown",
   "metadata": {},
   "source": [
    "#### I think the Stable Baselines in the environment such as Cartpole and Atari Assault game environments is more advance than both the DQN and classical Q-Learning because they have limitations when dealing with high-dimensional or complex environments. I would say, Stable Baselines is distinct as it offers more cleaner, modular framework which supports algorithms like PPO and A2C. Also, it has unique built-in support for vectorized environments, checkpointing, logging, and callbacks, which allowed for efficient training and better experiment tracking. In addition, it integrate seamlessly with gym as well as supporting policy and value-based methods that enables an easy experiment in different environments."
   ]
  }
 ],
 "metadata": {
  "kernelspec": {
   "display_name": "venv310",
   "language": "python",
   "name": "python3"
  },
  "language_info": {
   "codemirror_mode": {
    "name": "ipython",
    "version": 3
   },
   "file_extension": ".py",
   "mimetype": "text/x-python",
   "name": "python",
   "nbconvert_exporter": "python",
   "pygments_lexer": "ipython3",
   "version": "3.10.11"
  }
 },
 "nbformat": 4,
 "nbformat_minor": 2
}
