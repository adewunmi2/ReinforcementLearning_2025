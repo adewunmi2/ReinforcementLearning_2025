{
 "cells": [
  {
   "cell_type": "markdown",
   "metadata": {},
   "source": []
  },
  {
   "cell_type": "code",
   "execution_count": 1,
   "metadata": {},
   "outputs": [],
   "source": [
    "import gymnasium as gym\n",
    "import numpy as np\n",
    "import os\n",
    "import time\n",
    "import matplotlib.pyplot as plt\n",
    "from IPython.display import clear_output"
   ]
  },
  {
   "cell_type": "code",
   "execution_count": 7,
   "metadata": {},
   "outputs": [
    {
     "data": {
      "text/plain": [
       "<matplotlib.image.AxesImage at 0x213dabff6d0>"
      ]
     },
     "execution_count": 7,
     "metadata": {},
     "output_type": "execute_result"
    },
    {
     "data": {
      "image/png": "[encoded data removed]",
      "text/plain": [
       "<Figure size 640x480 with 1 Axes>"
      ]
     },
     "metadata": {},
     "output_type": "display_data"
    }
   ],
   "source": [
    "# make the env\n",
    "env = gym.make(\"MountainCar-v0\", render_mode='rgb_array')\n",
    "\n",
    "# visualize the environment\n",
    "env.reset()\n",
    "plt.imshow(env.render()) "
   ]
  },
  {
   "cell_type": "code",
   "execution_count": null,
   "metadata": {},
   "outputs": [
    {
     "data": {
      "text/plain": [
       "Box([-1.2  -0.07], [0.6  0.07], (2,), float32)"
      ]
     },
     "execution_count": 8,
     "metadata": {},
     "output_type": "execute_result"
    }
   ],
   "source": [
    "# observation space\n",
    "# the position is between -1.2 to 0.6\n",
    "# the velocity is between -0.07 to 0.07\n",
    "env.observation_space"
   ]
  },
  {
   "cell_type": "markdown",
   "metadata": {},
   "source": []
  },
  {
   "cell_type": "code",
   "execution_count": 9,
   "metadata": {},
   "outputs": [],
   "source": [
    "# helper variables\n",
    "num_position_bins = 30\n",
    "num_velocity_bins = 20\n",
    "\n",
    "# for calculating the needed steps in the bins\n",
    "max_position = env.observation_space.high[0]\n",
    "min_position = env.observation_space.low[0]\n",
    "max_velocity = env.observation_space.high[1]\n",
    "min_velocity = env.observation_space.low[1]\n",
    "\n",
    "# create the bins for position and velocity separately\n",
    "# first step, create the ranges between the bins by using LINSPACE\n",
    "position_bins = np.linspace(min_position, max_position, num_position_bins)\n",
    "velocity_bins = np.linspace(min_velocity, max_velocity, num_velocity_bins)\n",
    "\n",
    "# second step, use NumPy's digitize in order to discretize our state space\n",
    "positions = np.digitize(position_bins, bins=position_bins) - 1\n",
    "velocities = np.digitize(velocity_bins, bins=velocity_bins) - 1"
   ]
  },
  {
   "cell_type": "code",
   "execution_count": 11,
   "metadata": {},
   "outputs": [
    {
     "data": {
      "text/plain": [
       "(np.float32(0.6), np.float32(-0.07))"
      ]
     },
     "execution_count": 11,
     "metadata": {},
     "output_type": "execute_result"
    }
   ],
   "source": [
    "max_position, min_velocity"
   ]
  },
  {
   "cell_type": "code",
   "execution_count": 12,
   "metadata": {},
   "outputs": [
    {
     "data": {
      "text/plain": [
       "(np.float32(0.07), np.float32(-0.07))"
      ]
     },
     "execution_count": 12,
     "metadata": {},
     "output_type": "execute_result"
    }
   ],
   "source": [
    "max_velocity, min_velocity"
   ]
  },
  {
   "cell_type": "code",
   "execution_count": 10,
   "metadata": {},
   "outputs": [
    {
     "name": "stdout",
     "output_type": "stream",
     "text": [
      "Number of possible states in Q-table: 600\n"
     ]
    }
   ],
   "source": [
    "# how many states will we have in total\n",
    "num_states = num_position_bins * num_velocity_bins\n",
    "print(f\"Number of possible states in Q-table: {num_states}\")"
   ]
  },
  {
   "cell_type": "markdown",
   "metadata": {},
   "source": []
  },
  {
   "cell_type": "code",
   "execution_count": null,
   "metadata": {},
   "outputs": [],
   "source": []
  }
 ],
 "metadata": {
  "kernelspec": {
   "display_name": "venv310",
   "language": "python",
   "name": "python3"
  },
  "language_info": {
   "codemirror_mode": {
    "name": "ipython",
    "version": 3
   },
   "file_extension": ".py",
   "mimetype": "text/x-python",
   "name": "python",
   "nbconvert_exporter": "python",
   "pygments_lexer": "ipython3",
   "version": "3.10.11"
  }
 },
 "nbformat": 4,
 "nbformat_minor": 2
}
