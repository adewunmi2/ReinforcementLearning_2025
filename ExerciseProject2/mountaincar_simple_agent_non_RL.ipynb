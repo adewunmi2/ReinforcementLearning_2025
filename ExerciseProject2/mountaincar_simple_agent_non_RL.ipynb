{
 "cells": [
  {
   "cell_type": "markdown",
   "metadata": {},
   "source": [
    "## MountainCar – Manual Solution Exploration"
   ]
  },
  {
   "cell_type": "markdown",
   "metadata": {},
   "source": [
    "### My understanding of MountainCar-v0 environment in Gymnasium Farama is, its a classic reinforcement learning problem where as the car is seen placed in between the shallow of two hills and that has to reach the flag at the top of the right hill. Now, the challenge is that the car's engine is too weak (with no momentum) to reach the flag directly, so it must build momentum by moving back and forth. And that is achieved by a simple function, ifstatements code which make the car to move to the right and left though slowly but build up momentum overtime. That eventually drive the car to the mountain top (the flag)"
   ]
  },
  {
   "cell_type": "markdown",
   "metadata": {},
   "source": [
    "#### source: https://gymnasium.farama.org/environments/classic_control/mountain_car/"
   ]
  },
  {
   "cell_type": "code",
   "execution_count": 1,
   "metadata": {},
   "outputs": [],
   "source": [
    "# importing necessary libraries\n",
    "import gymnasium as gym\n",
    "import numpy as np\n",
    "import os\n",
    "import time\n",
    "import matplotlib.pyplot as plt\n",
    "from IPython.display import clear_output"
   ]
  },
  {
   "cell_type": "markdown",
   "metadata": {},
   "source": [
    "### Creating the mountain car environment"
   ]
  },
  {
   "cell_type": "code",
   "execution_count": 11,
   "metadata": {},
   "outputs": [
    {
     "data": {
      "text/plain": [
       "<matplotlib.image.AxesImage at 0x25c510a7850>"
      ]
     },
     "execution_count": 11,
     "metadata": {},
     "output_type": "execute_result"
    },
    {
     "data": {
      "image/png": "[encoded data removed]",
      "text/plain": [
       "<Figure size 640x480 with 1 Axes>"
      ]
     },
     "metadata": {},
     "output_type": "display_data"
    }
   ],
   "source": [
    "# creating the env\n",
    "env = gym.make(\"MountainCar-v0\", render_mode='rgb_array', max_episode_steps=-1)\n",
    "\n",
    "# visualize the environment\n",
    "env.reset()\n",
    "plt.imshow(env.render())"
   ]
  },
  {
   "cell_type": "markdown",
   "metadata": {},
   "source": [
    "### Ultimately, I noticed the car is positioned between the two hills randomly because each time I run the code the car's position changes say from -0.55 to -0.51, -0.50, -0.49 (increases in values)"
   ]
  },
  {
   "cell_type": "code",
   "execution_count": 12,
   "metadata": {},
   "outputs": [
    {
     "data": {
      "text/plain": [
       "Box([-1.2  -0.07], [0.6  0.07], (2,), float32)"
      ]
     },
     "execution_count": 12,
     "metadata": {},
     "output_type": "execute_result"
    }
   ],
   "source": [
    "# observation space\n",
    "# the position is between -1.2 to 0.6\n",
    "# the velocity is between -0.07 to 0.07\n",
    "env.observation_space"
   ]
  },
  {
   "cell_type": "markdown",
   "metadata": {},
   "source": [
    "### Above shown that the mountain car environment has the state space that consists of two values:\n",
    "\n",
    "#### position (ranges between -1.2 and 0.6)\n",
    "\n",
    "#### velocity (ranges between -0.07 and 0.07)"
   ]
  },
  {
   "cell_type": "markdown",
   "metadata": {},
   "source": [
    "### Action Space\n",
    "#### There are 3 discrete deterministic actions:\n",
    "\n",
    "#### 0: Accelerate to the left\n",
    "\n",
    "#### 1: Don’t accelerate (do nothing)\n",
    "\n",
    "#### 2: Accelerate to the right"
   ]
  },
  {
   "cell_type": "markdown",
   "metadata": {},
   "source": [
    "### Now, the need to create an agent without Reinforcement learning\n",
    "\n",
    "#### Essentially, it is to experiment with a custom code that attempts to solve the environment without RL algorithms. It's not probably feasible to actually solve this environment with a custom simple agent, but to experiment with the amount of variables and situations what has be taken into account while landing the car on top of the mountain."
   ]
  },
  {
   "cell_type": "code",
   "execution_count": null,
   "metadata": {},
   "outputs": [],
   "source": [
    "def simple_agent(observation):\n",
    "    # get position and velocity\n",
    "    position, velocity = observation\n",
    "\n",
    "    # because how the environment works, \n",
    "    # so there is a need to\n",
    "    # check a few things about the position and velocity \n",
    "    # before attempting any if-statements\n",
    "    if isinstance(velocity, dict) and len(velocity) == 0:\n",
    "        velocity = 0\n",
    "\n",
    "    # if position has multiple values, choose first one\n",
    "    if isinstance(position, np.ndarray):\n",
    "        position = position[0]\n",
    "\n",
    "    # Experimenting\n",
    "\n",
    "    # tips: you need both velocity and position to control the car\n",
    "    # for example, we should accerelate towards the direction the car is currently going towards\n",
    "\n",
    "    # => custom if-statements to make a decision for the car\n",
    "    # first idea: \n",
    "    # if car on left side and velocity is negative => accelerate left\n",
    "    # if car on left side and velocity is positive => accelerate right\n",
    "    # if car on right side and velocity is negative = accelerate left\n",
    "    # if car on right side and velocity is positive => accelerate right\n",
    "\n",
    "    # EXTRA CHALLENGE 1: try to park the car right on top of the flag pole without \n",
    "    # sliding over the right side of the mountain\n",
    "\n",
    "    # EXTRA CHALLENGE 2: don't allow the car bump into the left wall with full speed\n",
    "\n",
    "    # default action = do nothing\n",
    "    action = 1\n",
    "\n",
    "    # this might be between 0.05 - 0.1\n",
    "    if position > 0.059:\n",
    "        return 0\n",
    "    \n",
    "    # probably also have to stop braking the car after enough slow down\n",
    "\n",
    "    # you can also define ranges in the if-statements\n",
    "    # for specific instructions for the car\n",
    "\n",
    "    # \"a brute force\" solution just accerelating to the current direction\n",
    "    if velocity > 0.0 and position < 0.0:\n",
    "        return 2\n",
    "    \n",
    "    if velocity < 0.0 and position > -0.55:\n",
    "        return 0\n",
    "\n",
    "    return action"
   ]
  },
  {
   "cell_type": "markdown",
   "metadata": {},
   "source": [
    "####  NB: the environment starts the car at a random spot between -0.6 and -0.4 (this will affect the momentum slightly). you can lock down the random seed via env.reset(), for example: env.reset(seed=123). Naturally, it's easier to solve this environment manually if the initial position is always the same!"
   ]
  },
  {
   "cell_type": "markdown",
   "metadata": {},
   "source": [
    "###  Trying how the \"simple agent\" tries to play the game"
   ]
  },
  {
   "cell_type": "code",
   "execution_count": 16,
   "metadata": {},
   "outputs": [
    {
     "data": {
      "image/png": "[encoded data removed]",
      "text/plain": [
       "<Figure size 640x480 with 1 Axes>"
      ]
     },
     "metadata": {},
     "output_type": "display_data"
    },
    {
     "name": "stdout",
     "output_type": "stream",
     "text": [
      "Position: -0.15922826528549194\n",
      "Velocity: 0.06046706438064575\n"
     ]
    }
   ],
   "source": [
    "env.reset()\n",
    "clear_output(wait=True)\n",
    "plt.imshow(env.render())\n",
    "plt.show()\n",
    "\n",
    "# reset internal values in the environment\n",
    "# you can also lock down the random seed by using seed-parameter\n",
    "# i.e. env.reset(seed=123)\n",
    "observation = env.reset()\n",
    "\n",
    "# play the environment for 225 steps with our simple agent\n",
    "for step in range(225):\n",
    "    action = simple_agent(observation)\n",
    "\n",
    "    # get the feedback / observations from the environment after taking the step\n",
    "    observation, reward, done, info, truncate = env.step(action)\n",
    "\n",
    "    clear_output(wait=True)\n",
    "    plt.imshow(env.render())\n",
    "    plt.show()\n",
    "\n",
    "    print(f\"Position: {observation[0]}\")\n",
    "    print(f\"Velocity: {observation[1]}\")\n",
    "\n",
    "    # slow down the visual update\n",
    "    time.sleep(0.001)\n",
    "\n",
    "env.close()"
   ]
  }
 ],
 "metadata": {
  "kernelspec": {
   "display_name": "venv310",
   "language": "python",
   "name": "python3"
  },
  "language_info": {
   "codemirror_mode": {
    "name": "ipython",
    "version": 3
   },
   "file_extension": ".py",
   "mimetype": "text/x-python",
   "name": "python",
   "nbconvert_exporter": "python",
   "pygments_lexer": "ipython3",
   "version": "3.10.11"
  }
 },
 "nbformat": 4,
 "nbformat_minor": 2
}
