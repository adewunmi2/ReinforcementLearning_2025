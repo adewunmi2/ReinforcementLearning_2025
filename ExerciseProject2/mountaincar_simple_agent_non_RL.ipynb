{
 "cells": [
  {
   "cell_type": "markdown",
   "metadata": {},
   "source": [
    "## MountainCar – Manual Solution Exploration"
   ]
  },
  {
   "cell_type": "markdown",
   "metadata": {},
   "source": [
    "### My understanding of MountainCar-v0 environment in Gymnasium Farama is, its a classic reinforcement learning problem where as the car is seen placed in between the shallow of two hills and that has to reach the flag at the top of the right hill. Now, the challenge is that the car's engine is too weak (with no momentum) to reach the flag directly, so it must build momentum by moving back and forth. And that is achieved by a simple function, ifstatements code which make the car to move to the right and left though slowly but build up momentum overtime. That eventually drive the car to the mountain top (the flag)"
   ]
  },
  {
   "cell_type": "markdown",
   "metadata": {},
   "source": [
    "#### source: https://gymnasium.farama.org/environments/classic_control/mountain_car/"
   ]
  },
  {
   "cell_type": "code",
   "execution_count": 2,
   "metadata": {},
   "outputs": [],
   "source": [
    "# importing necessary libraries module\n",
    "import gymnasium as gym\n",
    "import numpy as np\n",
    "import os\n",
    "import time\n",
    "import matplotlib.pyplot as plt\n",
    "from IPython.display import clear_output"
   ]
  },
  {
   "cell_type": "markdown",
   "metadata": {},
   "source": [
    "### Creating the mountain car environment"
   ]
  },
  {
   "cell_type": "code",
   "execution_count": 3,
   "metadata": {},
   "outputs": [
    {
     "data": {
      "text/plain": [
       "<matplotlib.image.AxesImage at 0x281bbaffdc0>"
      ]
     },
     "execution_count": 3,
     "metadata": {},
     "output_type": "execute_result"
    },
    {
     "data": {
      "image/png": "[encoded data removed]",
      "text/plain": [
       "<Figure size 640x480 with 1 Axes>"
      ]
     },
     "metadata": {},
     "output_type": "display_data"
    }
   ],
   "source": [
    "# creating the env\n",
    "env = gym.make(\"MountainCar-v0\", render_mode='rgb_array', max_episode_steps=-1)\n",
    "\n",
    "# visualize the environment\n",
    "env.reset()\n",
    "plt.imshow(env.render())"
   ]
  },
  {
   "cell_type": "markdown",
   "metadata": {},
   "source": [
    "### Ultimately, I noticed the car is positioned between the two hills randomly because each time I run the code the car's position changes say from -0.55 to -0.51, -0.50, -0.49 (increases in values)"
   ]
  },
  {
   "cell_type": "code",
   "execution_count": 4,
   "metadata": {},
   "outputs": [
    {
     "data": {
      "text/plain": [
       "Box([-1.2  -0.07], [0.6  0.07], (2,), float32)"
      ]
     },
     "execution_count": 4,
     "metadata": {},
     "output_type": "execute_result"
    }
   ],
   "source": [
    "# observation space\n",
    "# the position is between -1.2 to 0.6\n",
    "# the velocity is between -0.07 to 0.07\n",
    "env.observation_space"
   ]
  },
  {
   "cell_type": "markdown",
   "metadata": {},
   "source": [
    "### Above shown that the mountain car environment has the state space that consists of two values:\n",
    "\n",
    "#### position (ranges between -1.2 and 0.6)\n",
    "\n",
    "#### velocity (ranges between -0.07 and 0.07)"
   ]
  },
  {
   "cell_type": "markdown",
   "metadata": {},
   "source": [
    "### Action Space\n",
    "#### There are 3 discrete deterministic actions:\n",
    "\n",
    "#### 0: Accelerate to the left\n",
    "\n",
    "#### 1: Don’t accelerate (do nothing)\n",
    "\n",
    "#### 2: Accelerate to the right"
   ]
  },
  {
   "cell_type": "markdown",
   "metadata": {},
   "source": [
    "### Now, the need to create an agent without Reinforcement learning\n",
    "\n",
    "#### Essentially, it is to experiment with a custom code that attempts to solve the environment without RL algorithms. It's not probably feasible to actually solve this environment with a custom simple agent, but to experiment with the amount of variables and situations what has be taken into account while landing the car on top of the mountain."
   ]
  },
  {
   "cell_type": "code",
   "execution_count": 5,
   "metadata": {},
   "outputs": [],
   "source": [
    "def simple_agent(observation):\n",
    "    # get position and velocity\n",
    "    position, velocity = observation\n",
    "\n",
    "    # because how the environment works, \n",
    "    # so there is a need to\n",
    "    # check a few things about the position and velocity \n",
    "    # before attempting any if-statements\n",
    "    if isinstance(velocity, dict) and len(velocity) == 0:\n",
    "        velocity = 0\n",
    "\n",
    "    # if position has multiple values, choose first one\n",
    "    if isinstance(position, np.ndarray):\n",
    "        position = position[0]\n",
    "\n",
    "    # Experimenting\n",
    "\n",
    "    # tips: in other to control the car there's need for\n",
    "    #  both velocity and position to control the car\n",
    "    # i.e the car accerelate towards the direction the car is currently moving (left or right)\n",
    "\n",
    "    # => custom if-statements to make a decision for the car\n",
    "    # Note:\n",
    "    # if car on left side and velocity is negative => accelerate left\n",
    "    # if car on left side and velocity is positive => accelerate right\n",
    "    # if car on right side and velocity is negative = accelerate left\n",
    "    # if car on right side and velocity is positive => accelerate right\n",
    "\n",
    "    # Main goal: trying to park the car right on top of the flag pole without \n",
    "    # sliding over the right side of the mountain\n",
    "\n",
    "    # Also, to ensure the car doesn'tbump into the left wall with high speed\n",
    "\n",
    "    # default action = do nothing\n",
    "    action = 1\n",
    "\n",
    "    # this might be between 0.05 - 0.1\n",
    "    if position > 0.059:\n",
    "        return 0\n",
    "    \n",
    "    # probably also have to stop braking the car after enough slow down\n",
    "\n",
    "    # Its ideal to define ranges in the if-statements\n",
    "    # as this provide instructions for the car\n",
    "\n",
    "    # \"a brute force\" solution just accerelating to the current direction\n",
    "    if velocity > 0.0 and position < 0.0:\n",
    "        return 2\n",
    "    \n",
    "    if velocity < 0.0 and position > -0.55:\n",
    "        return 0\n",
    "\n",
    "    return action"
   ]
  },
  {
   "cell_type": "markdown",
   "metadata": {},
   "source": [
    "####  NB: the environment starts the car at a random spot between -0.6 and -0.4 (this will affect the momentum slightly). you can lock down the random seed via env.reset(), for example: env.reset(seed=123). Naturally, it's easier to solve this environment manually if the initial position is always the same!"
   ]
  },
  {
   "cell_type": "markdown",
   "metadata": {},
   "source": [
    "###  Trying how the \"simple agent\" tries to play the game"
   ]
  },
  {
   "cell_type": "code",
   "execution_count": 7,
   "metadata": {},
   "outputs": [
    {
     "data": {
      "image/png": "[encoded data removed]",
      "text/plain": [
       "<Figure size 640x480 with 1 Axes>"
      ]
     },
     "metadata": {},
     "output_type": "display_data"
    },
    {
     "name": "stdout",
     "output_type": "stream",
     "text": [
      "Position: -0.15922826528549194\n",
      "Velocity: 0.06046706438064575\n"
     ]
    }
   ],
   "source": [
    "env.reset()\n",
    "clear_output(wait=True)\n",
    "plt.imshow(env.render())\n",
    "plt.show()\n",
    "\n",
    "# reset internal values in the environment\n",
    "# you can also lock down the random seed by using seed-parameter\n",
    "# i.e. env.reset(seed=123)\n",
    "observation = env.reset()\n",
    "\n",
    "# play the environment for 225 steps with our simple agent\n",
    "for step in range(225):\n",
    "    action = simple_agent(observation)\n",
    "\n",
    "    # get the feedback / observations from the environment after taking the step\n",
    "    observation, reward, done, info, truncate = env.step(action)\n",
    "\n",
    "    clear_output(wait=True)\n",
    "    plt.imshow(env.render())\n",
    "    plt.show()\n",
    "\n",
    "    print(f\"Position: {observation[0]}\")\n",
    "    print(f\"Velocity: {observation[1]}\")\n",
    "\n",
    "    # slow down the visual update\n",
    "    time.sleep(0.001)\n",
    "\n",
    "env.close()"
   ]
  },
  {
   "cell_type": "markdown",
   "metadata": {},
   "source": [
    "### At a random position the car and with the if conditional statements which gives the car the momentum needed to move/power the car to reach the flag. It started moving to the left at position -0.55 till -0.66 and then to the right -0.34 with positive velocity but it needed a much momentum to get to the mountain, so it started to move to the left like -1.15 at 0.01369 velocity which then enabled the car to accelerate with speed that get it towards reaching to the top. So it started to move to the left with high negative position and velocity in other to gain high acceleraton (momentum) that eventually get it to the top.\n",
    "### However, when the car gets to the top, I noticed it parked past the flag which is not too good of what I want which is to park exactly on the mountain top spot at position 0.600000 and velocity 0.0104328. Which then moved to the left when it got to the top because of this condition if position > 0.059: return 0 at position -0.1592 and velocity 0.0646.\n",
    "### This challenge is handled in secon notebook with two lines of code to break out which I got from ChatGPT."
   ]
  },
  {
   "cell_type": "markdown",
   "metadata": {},
   "source": [
    "### Discretization which is same as binning, it is a data preprocessing technique that is used in Machine Learning which transform continuous features (values) into descrete ones. The transformation often helps to reduce noise (there are elemnent of noise in the MountainCar) with the aim of improving the model performance. Source: https://medium.com/@noorfatimaafzalbutt/discretization-binning-in-machine-learning-da3ad71ceb36.\n",
    "### And continuos values are numeric values that have an infinite number of values between any two values. In this case position and velocity has [-1.2  -0.07], [0.6  0.07] range. Source: https://moodle.eoppimispalvelut.fi/pluginfile.php/2980225/mod_resource/content/2/RL_part2.pdf"
   ]
  }
 ],
 "metadata": {
  "kernelspec": {
   "display_name": "venv310",
   "language": "python",
   "name": "python3"
  },
  "language_info": {
   "codemirror_mode": {
    "name": "ipython",
    "version": 3
   },
   "file_extension": ".py",
   "mimetype": "text/x-python",
   "name": "python",
   "nbconvert_exporter": "python",
   "pygments_lexer": "ipython3",
   "version": "3.10.11"
  }
 },
 "nbformat": 4,
 "nbformat_minor": 2
}
